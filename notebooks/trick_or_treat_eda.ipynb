{
 "cells": [
  {
   "cell_type": "markdown",
   "metadata": {
    "id": "wUu72PL-xdQL"
   },
   "source": [
    "# Halloween Viz Visualization\n",
    "\n",
    "# Creating a Story\n",
    "Jeffrey A. Shaffer has been counting the number of candies he gives out on a halloween evening since 2012. Each year he collects the data on the number of candies given every half an hour between `1800` and `2030`. Jeffrey would now like to get some insights from the data he has collected.\n",
    "\n",
    "## Storyboarding\n",
    "In this section, we will put down thoughts around the story in points/post-its.\n",
    "\n",
    "1. `Issue`: Jeffrey A. Shaffer wants to better understand the data he is collecting.\n",
    "2. `Why?`: He expects to better understand the number of ghosts coming for halloween to his place for trick-or-treat. Jeff does whatever he can to reduce his carbon footprint, which will help prevent climate change. If he is able to get approximately the right number of candies for halloween, he will be able to save those resources, rather, use it efficiently.\n",
    "3. `Expectations`: Jeff expects to use a Dashboard to understand relationships between variables in the dataset.\n",
    "4. `Additional`: Adding external features like weather and the number of horror movies released can better help understand the data.\n",
    "\n",
    "## Who is the Audience?\n",
    "Jeffrey A. Shaffer and anyone else, who is interested in optimising the number of candies, is the audience.\n",
    "\n",
    "## What do we want to convey to our Audience?\n",
    "We want the audience to better estimate the number of candies that will be required for trick-or-treating in a particular year. Hence, create a dashboard to help visualize the key insights that can be gathered from the data.\n",
    "\n",
    "## Additional Feature\n",
    "Jeff thinks that the number of horror movies released a particular year plays a big role in determining how many candies will be given away on that Halloween night. Also,this dataset is simple and can be combined with other external datasets to provide better insight into the trick-or-treat figures.\n",
    "\n",
    "We will be considering [Kaggle's IMDB horror movies dataset](https://www.kaggle.com/PromptCloudHQ/imdb-horror-movie-dataset) and [IMDB's Dataset](https://www.imdb.com/interfaces/) to build on the halloween dataset. The number of movies/TV series released in a year and their average IMDB ratings will be considered.\n",
    "> **The relationship between the number of _good_ horror movies/TV series released and number of candies distributed in a particular can be explored.**\n",
    "\n",
    "Later, a simple regression model can be used to make predicitons on what the demand for candies will be like in 2021.\n",
    "\n",
    "_Note: As 2020 had been the year of the pandemic, there should be a sharp rise in the number of trick-or-treaters in 2021._\n",
    "\n",
    "\n",
    "# Halloween Viz EDA\n",
    "In this notebook, I am going to explore the [Halloween Viz dataset](https://www.dataplusscience.com/HalloweenData.html) created by [Jeffrey A. Shaffer](https://twitter.com/HighVizAbility), a resident of Cincinnati on the number of candies given out on Halloween each year. The dataset is further broken down into number of candies given out each half an hour between the trick-or-treat timings (6 to 8 p.m.). Jeffrey is an _\"Author, Data Viz Professor, Tableau Zen Master, Data Mining Geek, Recovering Musician\"_ (Source: Twitter).\n"
   ]
  },
  {
   "cell_type": "markdown",
   "metadata": {
    "id": "jv4uDh4Z2kmT"
   },
   "source": [
    "# Loading Libraries"
   ]
  },
  {
   "cell_type": "code",
   "execution_count": 2,
   "metadata": {
    "colab": {
     "base_uri": "https://localhost:8080/"
    },
    "id": "H-HOSg9u0hdi",
    "outputId": "70458961-c8c0-4d1f-af0f-aed21ba1df6b"
   },
   "outputs": [
    {
     "name": "stdout",
     "output_type": "stream",
     "text": [
      "Enabling notebook extension jupyter-js-widgets/extension...\r\n",
      "      - Validating: \u001b[32mOK\u001b[0m\r\n"
     ]
    }
   ],
   "source": [
    "import pandas as pd\n",
    "from pandas_profiling import ProfileReport\n",
    "from tqdm import tqdm\n",
    "import pathlib\n",
    "import os\n",
    "import datetime\n",
    "import matplotlib.pyplot as plt\n",
    "import seaborn as sns\n",
    "\n",
    "!jupyter nbextension enable --py widgetsnbextension"
   ]
  },
  {
   "cell_type": "markdown",
   "metadata": {
    "id": "d_CG2-C45BKD"
   },
   "source": [
    "# Data Preparation"
   ]
  },
  {
   "cell_type": "code",
   "execution_count": 2,
   "metadata": {
    "colab": {
     "base_uri": "https://localhost:8080/",
     "height": 802
    },
    "id": "43RlHIkn2gTe",
    "outputId": "876774a9-b4db-40ad-9dfb-9099b75dd376"
   },
   "outputs": [],
   "source": [
    "# Defining the directory\n",
    "raw_dir = \"Data/Raw\""
   ]
  },
  {
   "cell_type": "markdown",
   "metadata": {
    "id": "jv4uDh4Z2kmT"
   },
   "source": [
    "## Downloading IMDB Dataset"
   ]
  },
  {
   "cell_type": "code",
   "execution_count": 3,
   "metadata": {},
   "outputs": [
    {
     "name": "stdout",
     "output_type": "stream",
     "text": [
      "--2021-03-09 15:36:38--  https://datasets.imdbws.com/title.basics.tsv.gz\n",
      "Resolving datasets.imdbws.com (datasets.imdbws.com)... 2600:9000:21f6:5800:3:3082:af00:93a1, 2600:9000:21f6:c200:3:3082:af00:93a1, 2600:9000:21f6:9e00:3:3082:af00:93a1, ...\n",
      "Connecting to datasets.imdbws.com (datasets.imdbws.com)|2600:9000:21f6:5800:3:3082:af00:93a1|:443... connected.\n",
      "HTTP request sent, awaiting response... 200 OK\n",
      "Length: 136812465 (130M) [binary/octet-stream]\n",
      "Saving to: ‘Data/Raw/IMDB_basic_info.tsv.gz’\n",
      "\n",
      "Data/Raw/IMDB_basic 100%[===================>] 130.47M  2.03MB/s    in 88s     \n",
      "\n",
      "2021-03-09 15:38:06 (1.48 MB/s) - ‘Data/Raw/IMDB_basic_info.tsv.gz’ saved [136812465/136812465]\n",
      "\n"
     ]
    }
   ],
   "source": [
    "# Downloading basic information dataset\n",
    "if not pathlib.Path(os.path.join(raw_dir, \"IMDB_basic_info.tsv\")).exists():\n",
    "    !wget -O Data/Raw/IMDB_basic_info.tsv.gz https://datasets.imdbws.com/title.basics.tsv.gz\n",
    "    !gzip -d Data/Raw/IMDB_basic_info.tsv.gz\n",
    "else:\n",
    "    print(\"File IMDB_basic_info.tsv already exists.\")"
   ]
  },
  {
   "cell_type": "code",
   "execution_count": 7,
   "metadata": {},
   "outputs": [
    {
     "name": "stdout",
     "output_type": "stream",
     "text": [
      "--2021-03-09 15:38:55--  https://datasets.imdbws.com/title.ratings.tsv.gz\n",
      "Resolving datasets.imdbws.com (datasets.imdbws.com)... 2600:9000:21f6:8e00:3:3082:af00:93a1, 2600:9000:21f6:e800:3:3082:af00:93a1, 2600:9000:21f6:aa00:3:3082:af00:93a1, ...\n",
      "Connecting to datasets.imdbws.com (datasets.imdbws.com)|2600:9000:21f6:8e00:3:3082:af00:93a1|:443... connected.\n",
      "HTTP request sent, awaiting response... 200 OK\n",
      "Length: 5587490 (5.3M) [binary/octet-stream]\n",
      "Saving to: ‘Data/Raw/IMDB_ratings.tsv.gz’\n",
      "\n",
      "Data/Raw/IMDB_ratin 100%[===================>]   5.33M   902KB/s    in 23s     \n",
      "\n",
      "2021-03-09 15:39:20 (233 KB/s) - ‘Data/Raw/IMDB_ratings.tsv.gz’ saved [5587490/5587490]\n",
      "\n"
     ]
    }
   ],
   "source": [
    "# Downloading ratings dataset\n",
    "if not pathlib.Path(os.path.join(raw_dir, \"IMDB_ratings.tsv\")).exists():\n",
    "    !wget -O Data/Raw/IMDB_ratings.tsv.gz https://datasets.imdbws.com/title.ratings.tsv.gz\n",
    "    !gzip -d Data/Raw/IMDB_ratings.tsv.gz\n",
    "else:\n",
    "    print(\"File IMDB_ratings.tsv already exists.\")"
   ]
  },
  {
   "cell_type": "markdown",
   "metadata": {},
   "source": [
    "## Load the Data"
   ]
  },
  {
   "cell_type": "code",
   "execution_count": 5,
   "metadata": {},
   "outputs": [
    {
     "name": "stdout",
     "output_type": "stream",
     "text": [
      "File IMDB Horror movies.csv exists.\n"
     ]
    }
   ],
   "source": [
    "data_dict = \n",
    "\n",
    "filenames = [\"IMDB Horror movies.csv\"]\n",
    "#              \"IMDB_ratings.tsv\",\n",
    "#              \"IMDB_basic_info.tsv\"]\n",
    "\n",
    "for filename in filenames:\n",
    "    path = pathlib.Path(os.path.join(raw_dir, filename))\n",
    "    if not path.exists():\n",
    "        raise FileNotFoundError(f\"No file named {filename} is present at the location provided. Path: {path}\")\n",
    "    else:\n",
    "        print(f\"File {filename} exists.\")\n",
    "        \n",
    "path = pathlib.Path(os.path.join(raw_dir, filenames[0]))"
   ]
  },
  {
   "cell_type": "code",
   "execution_count": 6,
   "metadata": {
    "colab": {
     "base_uri": "https://localhost:8080/",
     "height": 802
    },
    "id": "43RlHIkn2gTe",
    "outputId": "876774a9-b4db-40ad-9dfb-9099b75dd376"
   },
   "outputs": [
    {
     "data": {
      "text/html": [
       "<div>\n",
       "<style scoped>\n",
       "    .dataframe tbody tr th:only-of-type {\n",
       "        vertical-align: middle;\n",
       "    }\n",
       "\n",
       "    .dataframe tbody tr th {\n",
       "        vertical-align: top;\n",
       "    }\n",
       "\n",
       "    .dataframe thead th {\n",
       "        text-align: right;\n",
       "    }\n",
       "</style>\n",
       "<table border=\"1\" class=\"dataframe\">\n",
       "  <thead>\n",
       "    <tr style=\"text-align: right;\">\n",
       "      <th></th>\n",
       "      <th>Title</th>\n",
       "      <th>Genres</th>\n",
       "      <th>Release Date</th>\n",
       "      <th>Release Country</th>\n",
       "      <th>Movie Rating</th>\n",
       "      <th>Review Rating</th>\n",
       "      <th>Movie Run Time</th>\n",
       "      <th>Plot</th>\n",
       "      <th>Cast</th>\n",
       "      <th>Language</th>\n",
       "      <th>Filming Locations</th>\n",
       "      <th>Budget</th>\n",
       "    </tr>\n",
       "  </thead>\n",
       "  <tbody>\n",
       "    <tr>\n",
       "      <th>0</th>\n",
       "      <td>Gut (2012)</td>\n",
       "      <td>Drama| Horror| Thriller</td>\n",
       "      <td>26-Oct-12</td>\n",
       "      <td>USA</td>\n",
       "      <td>NaN</td>\n",
       "      <td>3.9</td>\n",
       "      <td>91 min</td>\n",
       "      <td>Directed by Elias. With Jason Vail, Nicholas W...</td>\n",
       "      <td>Jason Vail|Nicholas Wilder|Sarah Schoofs|Kirst...</td>\n",
       "      <td>English</td>\n",
       "      <td>New York, USA</td>\n",
       "      <td>NaN</td>\n",
       "    </tr>\n",
       "    <tr>\n",
       "      <th>1</th>\n",
       "      <td>The Haunting of Mia Moss (2017)</td>\n",
       "      <td>Horror</td>\n",
       "      <td>13-Jan-17</td>\n",
       "      <td>USA</td>\n",
       "      <td>NaN</td>\n",
       "      <td>NaN</td>\n",
       "      <td>NaN</td>\n",
       "      <td>Directed by Jake Zelch. With Nicola Fiore, Bri...</td>\n",
       "      <td>Nicola Fiore|Brinke Stevens|Curtis Carnahan|Ja...</td>\n",
       "      <td>English</td>\n",
       "      <td>NaN</td>\n",
       "      <td>$30,000</td>\n",
       "    </tr>\n",
       "    <tr>\n",
       "      <th>2</th>\n",
       "      <td>Sleepwalking (2017)</td>\n",
       "      <td>Horror</td>\n",
       "      <td>21-Oct-17</td>\n",
       "      <td>Canada</td>\n",
       "      <td>NaN</td>\n",
       "      <td>NaN</td>\n",
       "      <td>NaN</td>\n",
       "      <td>Directed by David Briggs. With Alysia Topol, A...</td>\n",
       "      <td>Alysia Topol|Anthony Makela|Kelsi Ashley|Patri...</td>\n",
       "      <td>English</td>\n",
       "      <td>Sudbury, Ontario, Canada</td>\n",
       "      <td>NaN</td>\n",
       "    </tr>\n",
       "    <tr>\n",
       "      <th>3</th>\n",
       "      <td>Treasure Chest of Horrors II (2013)</td>\n",
       "      <td>Comedy| Horror| Thriller</td>\n",
       "      <td>23-Apr-13</td>\n",
       "      <td>USA</td>\n",
       "      <td>NOT RATED</td>\n",
       "      <td>3.7</td>\n",
       "      <td>82 min</td>\n",
       "      <td>Directed by M. Kelley, Shawn C. Phillips, Alex...</td>\n",
       "      <td>Veronica Ricci|Nicholas Adam Clark|James Culle...</td>\n",
       "      <td>English</td>\n",
       "      <td>Baltimore, Maryland, USA</td>\n",
       "      <td>NaN</td>\n",
       "    </tr>\n",
       "    <tr>\n",
       "      <th>4</th>\n",
       "      <td>Infidus (2015)</td>\n",
       "      <td>Crime| Drama| Horror</td>\n",
       "      <td>10-Apr-15</td>\n",
       "      <td>USA</td>\n",
       "      <td>NaN</td>\n",
       "      <td>5.8</td>\n",
       "      <td>80 min</td>\n",
       "      <td>Directed by Giulio De Santi. With Bonini Mino,...</td>\n",
       "      <td>Bonini Mino|Massimo Caratelli|Maurizio Zaffino...</td>\n",
       "      <td>Italian</td>\n",
       "      <td>NaN</td>\n",
       "      <td>NaN</td>\n",
       "    </tr>\n",
       "  </tbody>\n",
       "</table>\n",
       "</div>"
      ],
      "text/plain": [
       "                                 Title                     Genres  \\\n",
       "0                           Gut (2012)    Drama| Horror| Thriller   \n",
       "1      The Haunting of Mia Moss (2017)                     Horror   \n",
       "2                  Sleepwalking (2017)                     Horror   \n",
       "3  Treasure Chest of Horrors II (2013)   Comedy| Horror| Thriller   \n",
       "4                       Infidus (2015)       Crime| Drama| Horror   \n",
       "\n",
       "  Release Date Release Country Movie Rating  Review Rating Movie Run Time  \\\n",
       "0    26-Oct-12             USA          NaN            3.9         91 min   \n",
       "1    13-Jan-17             USA          NaN            NaN            NaN   \n",
       "2    21-Oct-17          Canada          NaN            NaN            NaN   \n",
       "3    23-Apr-13             USA    NOT RATED            3.7         82 min   \n",
       "4    10-Apr-15             USA          NaN            5.8         80 min   \n",
       "\n",
       "                                                Plot  \\\n",
       "0  Directed by Elias. With Jason Vail, Nicholas W...   \n",
       "1  Directed by Jake Zelch. With Nicola Fiore, Bri...   \n",
       "2  Directed by David Briggs. With Alysia Topol, A...   \n",
       "3  Directed by M. Kelley, Shawn C. Phillips, Alex...   \n",
       "4  Directed by Giulio De Santi. With Bonini Mino,...   \n",
       "\n",
       "                                                Cast Language  \\\n",
       "0  Jason Vail|Nicholas Wilder|Sarah Schoofs|Kirst...  English   \n",
       "1  Nicola Fiore|Brinke Stevens|Curtis Carnahan|Ja...  English   \n",
       "2  Alysia Topol|Anthony Makela|Kelsi Ashley|Patri...  English   \n",
       "3  Veronica Ricci|Nicholas Adam Clark|James Culle...  English   \n",
       "4  Bonini Mino|Massimo Caratelli|Maurizio Zaffino...  Italian   \n",
       "\n",
       "          Filming Locations    Budget  \n",
       "0             New York, USA       NaN  \n",
       "1                       NaN  $30,000   \n",
       "2  Sudbury, Ontario, Canada       NaN  \n",
       "3  Baltimore, Maryland, USA       NaN  \n",
       "4                       NaN       NaN  "
      ]
     },
     "execution_count": 6,
     "metadata": {},
     "output_type": "execute_result"
    }
   ],
   "source": [
    "if path.suffix == \".xlsx\":\n",
    "    horror_df = pd.read_excel(path)\n",
    "else:\n",
    "    horror_df = pd.read_csv(path, parse_dates=True)\n",
    "\n",
    "horror_df.head()"
   ]
  },
  {
   "cell_type": "markdown",
   "metadata": {},
   "source": [
    "# Understanding the Data\n",
    "Pandas profiling is used to better understand the dataset."
   ]
  },
  {
   "cell_type": "code",
   "execution_count": 7,
   "metadata": {
    "colab": {
     "base_uri": "https://localhost:8080/",
     "height": 324
    },
    "id": "IEsQT-t03wF5",
    "outputId": "ff39abda-99b6-48ab-d0cc-0e4fb4bdae17"
   },
   "outputs": [
    {
     "data": {
      "application/vnd.jupyter.widget-view+json": {
       "model_id": "89b0c436be1446d5b97ac8458a6fd388",
       "version_major": 2,
       "version_minor": 0
      },
      "text/plain": [
       "Summarize dataset:   0%|          | 0/26 [00:00<?, ?it/s]"
      ]
     },
     "metadata": {},
     "output_type": "display_data"
    },
    {
     "data": {
      "application/vnd.jupyter.widget-view+json": {
       "model_id": "4cdfd113ddc94ec08c2a188bd1787484",
       "version_major": 2,
       "version_minor": 0
      },
      "text/plain": [
       "Generate report structure:   0%|          | 0/1 [00:00<?, ?it/s]"
      ]
     },
     "metadata": {},
     "output_type": "display_data"
    },
    {
     "data": {
      "application/vnd.jupyter.widget-view+json": {
       "model_id": "",
       "version_major": 2,
       "version_minor": 0
      },
      "text/plain": [
       "Render widgets:   0%|          | 0/1 [00:00<?, ?it/s]"
      ]
     },
     "metadata": {},
     "output_type": "display_data"
    },
    {
     "data": {
      "application/vnd.jupyter.widget-view+json": {
       "model_id": "5bb74025f351462bb9363fb95025c737",
       "version_major": 2,
       "version_minor": 0
      },
      "text/plain": [
       "VBox(children=(Tab(children=(Tab(children=(GridBox(children=(VBox(children=(GridspecLayout(children=(HTML(valu…"
      ]
     },
     "metadata": {},
     "output_type": "display_data"
    }
   ],
   "source": [
    "profile = ProfileReport(horror_df)\n",
    "profile.to_widgets()"
   ]
  },
  {
   "cell_type": "code",
   "execution_count": 8,
   "metadata": {},
   "outputs": [
    {
     "name": "stdout",
     "output_type": "stream",
     "text": [
      "<class 'pandas.core.frame.DataFrame'>\n",
      "RangeIndex: 3328 entries, 0 to 3327\n",
      "Data columns (total 12 columns):\n",
      " #   Column             Non-Null Count  Dtype  \n",
      "---  ------             --------------  -----  \n",
      " 0   Title              3328 non-null   object \n",
      " 1   Genres             3327 non-null   object \n",
      " 2   Release Date       3328 non-null   object \n",
      " 3   Release Country    3328 non-null   object \n",
      " 4   Movie Rating       1451 non-null   object \n",
      " 5   Review Rating      3076 non-null   float64\n",
      " 6   Movie Run Time     2784 non-null   object \n",
      " 7   Plot               3327 non-null   object \n",
      " 8   Cast               3314 non-null   object \n",
      " 9   Language           3257 non-null   object \n",
      " 10  Filming Locations  2096 non-null   object \n",
      " 11  Budget             1234 non-null   object \n",
      "dtypes: float64(1), object(11)\n",
      "memory usage: 312.1+ KB\n"
     ]
    }
   ],
   "source": [
    "horror_df.info()"
   ]
  },
  {
   "cell_type": "markdown",
   "metadata": {},
   "source": [
    "# Pre-processing Data\n",
    "In this section, the data will be converted in to the required format and reduced to something that can easily be combined with halloween viz dataset."
   ]
  },
  {
   "cell_type": "code",
   "execution_count": 12,
   "metadata": {},
   "outputs": [
    {
     "data": {
      "text/plain": [
       "119"
      ]
     },
     "execution_count": 12,
     "metadata": {},
     "output_type": "execute_result"
    }
   ],
   "source": [
    "# Converting to datetime object.\n",
    "(pd.to_datetime(horror_df[\"Release Date\"], format=\"%d-%b-%y\", errors=\"ignore\") == '2017').value_counts()[True]"
   ]
  },
  {
   "cell_type": "code",
   "execution_count": 13,
   "metadata": {},
   "outputs": [
    {
     "data": {
      "text/plain": [
       "119"
      ]
     },
     "execution_count": 13,
     "metadata": {},
     "output_type": "execute_result"
    }
   ],
   "source": [
    "# Number of movies with a release date of `2017`\n",
    "len(horror_df[horror_df[\"Release Date\"] == '2017'])"
   ]
  },
  {
   "cell_type": "markdown",
   "metadata": {},
   "source": [
    "> As both the above values are the same, it can be concluded that the conversion from `string` to `datetime obj` has successfully taken place."
   ]
  },
  {
   "cell_type": "code",
   "execution_count": 14,
   "metadata": {},
   "outputs": [],
   "source": [
    "horror_df[\"Release Date\"] = pd.to_datetime(horror_df[\"Release Date\"], format=\"%d-%b-%y\", errors=\"ignore\")"
   ]
  },
  {
   "cell_type": "code",
   "execution_count": 15,
   "metadata": {},
   "outputs": [
    {
     "data": {
      "text/html": [
       "<div>\n",
       "<style scoped>\n",
       "    .dataframe tbody tr th:only-of-type {\n",
       "        vertical-align: middle;\n",
       "    }\n",
       "\n",
       "    .dataframe tbody tr th {\n",
       "        vertical-align: top;\n",
       "    }\n",
       "\n",
       "    .dataframe thead th {\n",
       "        text-align: right;\n",
       "    }\n",
       "</style>\n",
       "<table border=\"1\" class=\"dataframe\">\n",
       "  <thead>\n",
       "    <tr style=\"text-align: right;\">\n",
       "      <th></th>\n",
       "      <th>Release Date</th>\n",
       "      <th>Movie Rating</th>\n",
       "      <th>Release Country</th>\n",
       "      <th>Filming Locations</th>\n",
       "    </tr>\n",
       "  </thead>\n",
       "  <tbody>\n",
       "    <tr>\n",
       "      <th>0</th>\n",
       "      <td>26-Oct-12</td>\n",
       "      <td>NaN</td>\n",
       "      <td>USA</td>\n",
       "      <td>New York, USA</td>\n",
       "    </tr>\n",
       "    <tr>\n",
       "      <th>1</th>\n",
       "      <td>13-Jan-17</td>\n",
       "      <td>NaN</td>\n",
       "      <td>USA</td>\n",
       "      <td>NaN</td>\n",
       "    </tr>\n",
       "    <tr>\n",
       "      <th>2</th>\n",
       "      <td>21-Oct-17</td>\n",
       "      <td>NaN</td>\n",
       "      <td>Canada</td>\n",
       "      <td>Sudbury, Ontario, Canada</td>\n",
       "    </tr>\n",
       "    <tr>\n",
       "      <th>3</th>\n",
       "      <td>23-Apr-13</td>\n",
       "      <td>NOT RATED</td>\n",
       "      <td>USA</td>\n",
       "      <td>Baltimore, Maryland, USA</td>\n",
       "    </tr>\n",
       "    <tr>\n",
       "      <th>4</th>\n",
       "      <td>10-Apr-15</td>\n",
       "      <td>NaN</td>\n",
       "      <td>USA</td>\n",
       "      <td>NaN</td>\n",
       "    </tr>\n",
       "  </tbody>\n",
       "</table>\n",
       "</div>"
      ],
      "text/plain": [
       "  Release Date Movie Rating Release Country         Filming Locations\n",
       "0    26-Oct-12          NaN             USA             New York, USA\n",
       "1    13-Jan-17          NaN             USA                       NaN\n",
       "2    21-Oct-17          NaN          Canada  Sudbury, Ontario, Canada\n",
       "3    23-Apr-13    NOT RATED             USA  Baltimore, Maryland, USA\n",
       "4    10-Apr-15          NaN             USA                       NaN"
      ]
     },
     "execution_count": 15,
     "metadata": {},
     "output_type": "execute_result"
    }
   ],
   "source": [
    "# Removing columns that are not needed\n",
    "keep_cols = [\"Release Date\", \"Movie Rating\", \"Release Country\", \"Filming Locations\"]\n",
    "horror_df_reduced = horror_df[keep_cols].copy()\n",
    "horror_df_reduced.head()"
   ]
  },
  {
   "cell_type": "markdown",
   "metadata": {},
   "source": [
    "We are only interested in the movies released in the `USA`. Hence, movies released in other countries are dropped."
   ]
  },
  {
   "cell_type": "code",
   "execution_count": 16,
   "metadata": {},
   "outputs": [
    {
     "data": {
      "text/html": [
       "<div>\n",
       "<style scoped>\n",
       "    .dataframe tbody tr th:only-of-type {\n",
       "        vertical-align: middle;\n",
       "    }\n",
       "\n",
       "    .dataframe tbody tr th {\n",
       "        vertical-align: top;\n",
       "    }\n",
       "\n",
       "    .dataframe thead th {\n",
       "        text-align: right;\n",
       "    }\n",
       "</style>\n",
       "<table border=\"1\" class=\"dataframe\">\n",
       "  <thead>\n",
       "    <tr style=\"text-align: right;\">\n",
       "      <th></th>\n",
       "      <th>Release Date</th>\n",
       "      <th>Movie Rating</th>\n",
       "      <th>Release Country</th>\n",
       "      <th>Filming Locations</th>\n",
       "    </tr>\n",
       "  </thead>\n",
       "  <tbody>\n",
       "    <tr>\n",
       "      <th>0</th>\n",
       "      <td>26-Oct-12</td>\n",
       "      <td>NaN</td>\n",
       "      <td>USA</td>\n",
       "      <td>New York, USA</td>\n",
       "    </tr>\n",
       "    <tr>\n",
       "      <th>1</th>\n",
       "      <td>13-Jan-17</td>\n",
       "      <td>NaN</td>\n",
       "      <td>USA</td>\n",
       "      <td>NaN</td>\n",
       "    </tr>\n",
       "    <tr>\n",
       "      <th>3</th>\n",
       "      <td>23-Apr-13</td>\n",
       "      <td>NOT RATED</td>\n",
       "      <td>USA</td>\n",
       "      <td>Baltimore, Maryland, USA</td>\n",
       "    </tr>\n",
       "    <tr>\n",
       "      <th>4</th>\n",
       "      <td>10-Apr-15</td>\n",
       "      <td>NaN</td>\n",
       "      <td>USA</td>\n",
       "      <td>NaN</td>\n",
       "    </tr>\n",
       "    <tr>\n",
       "      <th>6</th>\n",
       "      <td>3-Jun-14</td>\n",
       "      <td>NOT RATED</td>\n",
       "      <td>USA</td>\n",
       "      <td>NaN</td>\n",
       "    </tr>\n",
       "  </tbody>\n",
       "</table>\n",
       "</div>"
      ],
      "text/plain": [
       "  Release Date Movie Rating Release Country         Filming Locations\n",
       "0    26-Oct-12          NaN             USA             New York, USA\n",
       "1    13-Jan-17          NaN             USA                       NaN\n",
       "3    23-Apr-13    NOT RATED             USA  Baltimore, Maryland, USA\n",
       "4    10-Apr-15          NaN             USA                       NaN\n",
       "6     3-Jun-14    NOT RATED             USA                       NaN"
      ]
     },
     "execution_count": 16,
     "metadata": {},
     "output_type": "execute_result"
    }
   ],
   "source": [
    "horror_df2 = horror_df_reduced[horror_df_reduced[\"Release Country\"] == \"USA\"].copy()\n",
    "horror_df2.head()"
   ]
  },
  {
   "cell_type": "code",
   "execution_count": 17,
   "metadata": {},
   "outputs": [
    {
     "data": {
      "text/html": [
       "<div>\n",
       "<style scoped>\n",
       "    .dataframe tbody tr th:only-of-type {\n",
       "        vertical-align: middle;\n",
       "    }\n",
       "\n",
       "    .dataframe tbody tr th {\n",
       "        vertical-align: top;\n",
       "    }\n",
       "\n",
       "    .dataframe thead th {\n",
       "        text-align: right;\n",
       "    }\n",
       "</style>\n",
       "<table border=\"1\" class=\"dataframe\">\n",
       "  <thead>\n",
       "    <tr style=\"text-align: right;\">\n",
       "      <th></th>\n",
       "      <th>Release Date</th>\n",
       "      <th>Movie Rating</th>\n",
       "      <th>Filming Locations</th>\n",
       "    </tr>\n",
       "  </thead>\n",
       "  <tbody>\n",
       "    <tr>\n",
       "      <th>0</th>\n",
       "      <td>26-Oct-12</td>\n",
       "      <td>NaN</td>\n",
       "      <td>New York, USA</td>\n",
       "    </tr>\n",
       "    <tr>\n",
       "      <th>1</th>\n",
       "      <td>13-Jan-17</td>\n",
       "      <td>NaN</td>\n",
       "      <td>NaN</td>\n",
       "    </tr>\n",
       "    <tr>\n",
       "      <th>3</th>\n",
       "      <td>23-Apr-13</td>\n",
       "      <td>NOT RATED</td>\n",
       "      <td>Baltimore, Maryland, USA</td>\n",
       "    </tr>\n",
       "    <tr>\n",
       "      <th>4</th>\n",
       "      <td>10-Apr-15</td>\n",
       "      <td>NaN</td>\n",
       "      <td>NaN</td>\n",
       "    </tr>\n",
       "    <tr>\n",
       "      <th>6</th>\n",
       "      <td>3-Jun-14</td>\n",
       "      <td>NOT RATED</td>\n",
       "      <td>NaN</td>\n",
       "    </tr>\n",
       "  </tbody>\n",
       "</table>\n",
       "</div>"
      ],
      "text/plain": [
       "  Release Date Movie Rating         Filming Locations\n",
       "0    26-Oct-12          NaN             New York, USA\n",
       "1    13-Jan-17          NaN                       NaN\n",
       "3    23-Apr-13    NOT RATED  Baltimore, Maryland, USA\n",
       "4    10-Apr-15          NaN                       NaN\n",
       "6     3-Jun-14    NOT RATED                       NaN"
      ]
     },
     "execution_count": 17,
     "metadata": {},
     "output_type": "execute_result"
    }
   ],
   "source": [
    "# Dropping the Release Country columns\n",
    "horror_df2.drop([\"Release Country\"], axis=1, inplace=True)\n",
    "horror_df2.head()"
   ]
  },
  {
   "cell_type": "code",
   "execution_count": 18,
   "metadata": {},
   "outputs": [
    {
     "name": "stderr",
     "output_type": "stream",
     "text": [
      "100%|██████████| 2092/2092 [00:00<00:00, 74297.70it/s]\n"
     ]
    }
   ],
   "source": [
    "# Getting the release year for each movie\n",
    "years = []\n",
    "\n",
    "for date in tqdm(horror_df2[\"Release Date\"].values):\n",
    "    if date.find('-') == -1:\n",
    "        years.append(date)\n",
    "    else:\n",
    "        years.append(datetime.datetime.strptime(date, \"%d-%b-%y\").year)"
   ]
  },
  {
   "cell_type": "code",
   "execution_count": 19,
   "metadata": {},
   "outputs": [
    {
     "data": {
      "text/html": [
       "<div>\n",
       "<style scoped>\n",
       "    .dataframe tbody tr th:only-of-type {\n",
       "        vertical-align: middle;\n",
       "    }\n",
       "\n",
       "    .dataframe tbody tr th {\n",
       "        vertical-align: top;\n",
       "    }\n",
       "\n",
       "    .dataframe thead th {\n",
       "        text-align: right;\n",
       "    }\n",
       "</style>\n",
       "<table border=\"1\" class=\"dataframe\">\n",
       "  <thead>\n",
       "    <tr style=\"text-align: right;\">\n",
       "      <th></th>\n",
       "      <th>Release Date</th>\n",
       "      <th>Movie Rating</th>\n",
       "      <th>Filming Locations</th>\n",
       "      <th>Release Year</th>\n",
       "    </tr>\n",
       "  </thead>\n",
       "  <tbody>\n",
       "    <tr>\n",
       "      <th>0</th>\n",
       "      <td>26-Oct-12</td>\n",
       "      <td>NaN</td>\n",
       "      <td>New York, USA</td>\n",
       "      <td>2012</td>\n",
       "    </tr>\n",
       "    <tr>\n",
       "      <th>1</th>\n",
       "      <td>13-Jan-17</td>\n",
       "      <td>NaN</td>\n",
       "      <td>NaN</td>\n",
       "      <td>2017</td>\n",
       "    </tr>\n",
       "    <tr>\n",
       "      <th>3</th>\n",
       "      <td>23-Apr-13</td>\n",
       "      <td>NOT RATED</td>\n",
       "      <td>Baltimore, Maryland, USA</td>\n",
       "      <td>2015</td>\n",
       "    </tr>\n",
       "    <tr>\n",
       "      <th>4</th>\n",
       "      <td>10-Apr-15</td>\n",
       "      <td>NaN</td>\n",
       "      <td>NaN</td>\n",
       "      <td>2014</td>\n",
       "    </tr>\n",
       "    <tr>\n",
       "      <th>6</th>\n",
       "      <td>3-Jun-14</td>\n",
       "      <td>NOT RATED</td>\n",
       "      <td>NaN</td>\n",
       "      <td>2012</td>\n",
       "    </tr>\n",
       "  </tbody>\n",
       "</table>\n",
       "</div>"
      ],
      "text/plain": [
       "  Release Date Movie Rating         Filming Locations Release Year\n",
       "0    26-Oct-12          NaN             New York, USA         2012\n",
       "1    13-Jan-17          NaN                       NaN         2017\n",
       "3    23-Apr-13    NOT RATED  Baltimore, Maryland, USA         2015\n",
       "4    10-Apr-15          NaN                       NaN         2014\n",
       "6     3-Jun-14    NOT RATED                       NaN         2012"
      ]
     },
     "execution_count": 19,
     "metadata": {},
     "output_type": "execute_result"
    }
   ],
   "source": [
    "# Adding Release Year to the DataFrame\n",
    "horror_df2['Release Year'] = pd.Series(years)\n",
    "horror_df2.head()"
   ]
  },
  {
   "cell_type": "code",
   "execution_count": 20,
   "metadata": {},
   "outputs": [
    {
     "data": {
      "text/plain": [
       "count     1256\n",
       "unique      12\n",
       "top       2017\n",
       "freq       264\n",
       "Name: Release Year, dtype: int64"
      ]
     },
     "execution_count": 20,
     "metadata": {},
     "output_type": "execute_result"
    }
   ],
   "source": [
    "horror_df2[\"Release Year\"].describe()"
   ]
  },
  {
   "cell_type": "markdown",
   "metadata": {},
   "source": [
    "As it can be seen above, now there are only `12` unique values. The most common being `2017`. Now the data can be easily split using the `Release Year`."
   ]
  },
  {
   "cell_type": "code",
   "execution_count": 21,
   "metadata": {},
   "outputs": [
    {
     "data": {
      "text/plain": [
       "2017    264\n",
       "2016    236\n",
       "2015    219\n",
       "2014    186\n",
       "2013    150\n",
       "2012    104\n",
       "2017     52\n",
       "2016     15\n",
       "2015     11\n",
       "2012      7\n",
       "2014      7\n",
       "2013      5\n",
       "Name: Release Year, dtype: int64"
      ]
     },
     "execution_count": 21,
     "metadata": {},
     "output_type": "execute_result"
    }
   ],
   "source": [
    "horror_df2[\"Release Year\"].value_counts()"
   ]
  },
  {
   "cell_type": "markdown",
   "metadata": {},
   "source": [
    "# Loading New Dataset\n",
    "The following dataset is obtained from the [official IMDB Website](https://www.imdb.com/interfaces/). As the halloween dataset is available from `2008` to `2020`, we would like to get data regarding the number of horror movies released for the same time period. Furthermore, the average rating of the horror movies for each year is to be used for the visualization."
   ]
  },
  {
   "cell_type": "code",
   "execution_count": 22,
   "metadata": {},
   "outputs": [
    {
     "data": {
      "text/html": [
       "<div>\n",
       "<style scoped>\n",
       "    .dataframe tbody tr th:only-of-type {\n",
       "        vertical-align: middle;\n",
       "    }\n",
       "\n",
       "    .dataframe tbody tr th {\n",
       "        vertical-align: top;\n",
       "    }\n",
       "\n",
       "    .dataframe thead th {\n",
       "        text-align: right;\n",
       "    }\n",
       "</style>\n",
       "<table border=\"1\" class=\"dataframe\">\n",
       "  <thead>\n",
       "    <tr style=\"text-align: right;\">\n",
       "      <th></th>\n",
       "      <th>averageRating</th>\n",
       "      <th>numVotes</th>\n",
       "    </tr>\n",
       "    <tr>\n",
       "      <th>tconst</th>\n",
       "      <th></th>\n",
       "      <th></th>\n",
       "    </tr>\n",
       "  </thead>\n",
       "  <tbody>\n",
       "    <tr>\n",
       "      <th>tt0000001</th>\n",
       "      <td>5.7</td>\n",
       "      <td>1688</td>\n",
       "    </tr>\n",
       "    <tr>\n",
       "      <th>tt0000002</th>\n",
       "      <td>6.0</td>\n",
       "      <td>208</td>\n",
       "    </tr>\n",
       "    <tr>\n",
       "      <th>tt0000003</th>\n",
       "      <td>6.5</td>\n",
       "      <td>1430</td>\n",
       "    </tr>\n",
       "    <tr>\n",
       "      <th>tt0000004</th>\n",
       "      <td>6.1</td>\n",
       "      <td>122</td>\n",
       "    </tr>\n",
       "    <tr>\n",
       "      <th>tt0000005</th>\n",
       "      <td>6.1</td>\n",
       "      <td>2229</td>\n",
       "    </tr>\n",
       "  </tbody>\n",
       "</table>\n",
       "</div>"
      ],
      "text/plain": [
       "           averageRating  numVotes\n",
       "tconst                            \n",
       "tt0000001            5.7      1688\n",
       "tt0000002            6.0       208\n",
       "tt0000003            6.5      1430\n",
       "tt0000004            6.1       122\n",
       "tt0000005            6.1      2229"
      ]
     },
     "execution_count": 22,
     "metadata": {},
     "output_type": "execute_result"
    }
   ],
   "source": [
    "imdb_rating_df = pd.read_csv(os.path.join(raw_dir, \"IMDB_ratings.tsv\"), sep=\"\\t\", index_col=[\"tconst\"])\n",
    "imdb_rating_df.head()"
   ]
  },
  {
   "cell_type": "code",
   "execution_count": 23,
   "metadata": {},
   "outputs": [
    {
     "data": {
      "text/html": [
       "<div>\n",
       "<style scoped>\n",
       "    .dataframe tbody tr th:only-of-type {\n",
       "        vertical-align: middle;\n",
       "    }\n",
       "\n",
       "    .dataframe tbody tr th {\n",
       "        vertical-align: top;\n",
       "    }\n",
       "\n",
       "    .dataframe thead th {\n",
       "        text-align: right;\n",
       "    }\n",
       "</style>\n",
       "<table border=\"1\" class=\"dataframe\">\n",
       "  <thead>\n",
       "    <tr style=\"text-align: right;\">\n",
       "      <th></th>\n",
       "      <th>titleType</th>\n",
       "      <th>primaryTitle</th>\n",
       "      <th>originalTitle</th>\n",
       "      <th>isAdult</th>\n",
       "      <th>startYear</th>\n",
       "      <th>endYear</th>\n",
       "      <th>runtimeMinutes</th>\n",
       "      <th>genres</th>\n",
       "    </tr>\n",
       "    <tr>\n",
       "      <th>tconst</th>\n",
       "      <th></th>\n",
       "      <th></th>\n",
       "      <th></th>\n",
       "      <th></th>\n",
       "      <th></th>\n",
       "      <th></th>\n",
       "      <th></th>\n",
       "      <th></th>\n",
       "    </tr>\n",
       "  </thead>\n",
       "  <tbody>\n",
       "    <tr>\n",
       "      <th>tt0000001</th>\n",
       "      <td>short</td>\n",
       "      <td>Carmencita</td>\n",
       "      <td>Carmencita</td>\n",
       "      <td>0</td>\n",
       "      <td>1894</td>\n",
       "      <td>\\N</td>\n",
       "      <td>1</td>\n",
       "      <td>Documentary,Short</td>\n",
       "    </tr>\n",
       "    <tr>\n",
       "      <th>tt0000002</th>\n",
       "      <td>short</td>\n",
       "      <td>Le clown et ses chiens</td>\n",
       "      <td>Le clown et ses chiens</td>\n",
       "      <td>0</td>\n",
       "      <td>1892</td>\n",
       "      <td>\\N</td>\n",
       "      <td>5</td>\n",
       "      <td>Animation,Short</td>\n",
       "    </tr>\n",
       "    <tr>\n",
       "      <th>tt0000003</th>\n",
       "      <td>short</td>\n",
       "      <td>Pauvre Pierrot</td>\n",
       "      <td>Pauvre Pierrot</td>\n",
       "      <td>0</td>\n",
       "      <td>1892</td>\n",
       "      <td>\\N</td>\n",
       "      <td>4</td>\n",
       "      <td>Animation,Comedy,Romance</td>\n",
       "    </tr>\n",
       "    <tr>\n",
       "      <th>tt0000004</th>\n",
       "      <td>short</td>\n",
       "      <td>Un bon bock</td>\n",
       "      <td>Un bon bock</td>\n",
       "      <td>0</td>\n",
       "      <td>1892</td>\n",
       "      <td>\\N</td>\n",
       "      <td>12</td>\n",
       "      <td>Animation,Short</td>\n",
       "    </tr>\n",
       "    <tr>\n",
       "      <th>tt0000005</th>\n",
       "      <td>short</td>\n",
       "      <td>Blacksmith Scene</td>\n",
       "      <td>Blacksmith Scene</td>\n",
       "      <td>0</td>\n",
       "      <td>1893</td>\n",
       "      <td>\\N</td>\n",
       "      <td>1</td>\n",
       "      <td>Comedy,Short</td>\n",
       "    </tr>\n",
       "  </tbody>\n",
       "</table>\n",
       "</div>"
      ],
      "text/plain": [
       "          titleType            primaryTitle           originalTitle isAdult  \\\n",
       "tconst                                                                        \n",
       "tt0000001     short              Carmencita              Carmencita       0   \n",
       "tt0000002     short  Le clown et ses chiens  Le clown et ses chiens       0   \n",
       "tt0000003     short          Pauvre Pierrot          Pauvre Pierrot       0   \n",
       "tt0000004     short             Un bon bock             Un bon bock       0   \n",
       "tt0000005     short        Blacksmith Scene        Blacksmith Scene       0   \n",
       "\n",
       "          startYear endYear runtimeMinutes                    genres  \n",
       "tconst                                                                \n",
       "tt0000001      1894      \\N              1         Documentary,Short  \n",
       "tt0000002      1892      \\N              5           Animation,Short  \n",
       "tt0000003      1892      \\N              4  Animation,Comedy,Romance  \n",
       "tt0000004      1892      \\N             12           Animation,Short  \n",
       "tt0000005      1893      \\N              1              Comedy,Short  "
      ]
     },
     "execution_count": 23,
     "metadata": {},
     "output_type": "execute_result"
    }
   ],
   "source": [
    "imdb_basic_df = pd.read_csv(os.path.join(raw_dir, \"IMDB_basic_info.tsv\"),\n",
    "                            sep=\"\\t\", index_col=[\"tconst\"], low_memory=False)\n",
    "imdb_basic_df.head()"
   ]
  },
  {
   "cell_type": "code",
   "execution_count": 24,
   "metadata": {},
   "outputs": [],
   "source": [
    "# Dropping columns that are not required\n",
    "del_cols = [\"titleType\",\n",
    "            \"primaryTitle\"]\n",
    "imdb_basic_df.drop(del_cols, axis=1, inplace=True)"
   ]
  },
  {
   "cell_type": "code",
   "execution_count": 25,
   "metadata": {},
   "outputs": [
    {
     "data": {
      "text/html": [
       "<div>\n",
       "<style scoped>\n",
       "    .dataframe tbody tr th:only-of-type {\n",
       "        vertical-align: middle;\n",
       "    }\n",
       "\n",
       "    .dataframe tbody tr th {\n",
       "        vertical-align: top;\n",
       "    }\n",
       "\n",
       "    .dataframe thead th {\n",
       "        text-align: right;\n",
       "    }\n",
       "</style>\n",
       "<table border=\"1\" class=\"dataframe\">\n",
       "  <thead>\n",
       "    <tr style=\"text-align: right;\">\n",
       "      <th></th>\n",
       "      <th>originalTitle</th>\n",
       "      <th>isAdult</th>\n",
       "      <th>startYear</th>\n",
       "      <th>endYear</th>\n",
       "      <th>runtimeMinutes</th>\n",
       "      <th>genres</th>\n",
       "      <th>averageRating</th>\n",
       "      <th>numVotes</th>\n",
       "    </tr>\n",
       "    <tr>\n",
       "      <th>tconst</th>\n",
       "      <th></th>\n",
       "      <th></th>\n",
       "      <th></th>\n",
       "      <th></th>\n",
       "      <th></th>\n",
       "      <th></th>\n",
       "      <th></th>\n",
       "      <th></th>\n",
       "    </tr>\n",
       "  </thead>\n",
       "  <tbody>\n",
       "    <tr>\n",
       "      <th>tt0000001</th>\n",
       "      <td>Carmencita</td>\n",
       "      <td>0</td>\n",
       "      <td>1894</td>\n",
       "      <td>\\N</td>\n",
       "      <td>1</td>\n",
       "      <td>Documentary,Short</td>\n",
       "      <td>5.7</td>\n",
       "      <td>1688.0</td>\n",
       "    </tr>\n",
       "    <tr>\n",
       "      <th>tt0000002</th>\n",
       "      <td>Le clown et ses chiens</td>\n",
       "      <td>0</td>\n",
       "      <td>1892</td>\n",
       "      <td>\\N</td>\n",
       "      <td>5</td>\n",
       "      <td>Animation,Short</td>\n",
       "      <td>6.0</td>\n",
       "      <td>208.0</td>\n",
       "    </tr>\n",
       "    <tr>\n",
       "      <th>tt0000003</th>\n",
       "      <td>Pauvre Pierrot</td>\n",
       "      <td>0</td>\n",
       "      <td>1892</td>\n",
       "      <td>\\N</td>\n",
       "      <td>4</td>\n",
       "      <td>Animation,Comedy,Romance</td>\n",
       "      <td>6.5</td>\n",
       "      <td>1430.0</td>\n",
       "    </tr>\n",
       "    <tr>\n",
       "      <th>tt0000004</th>\n",
       "      <td>Un bon bock</td>\n",
       "      <td>0</td>\n",
       "      <td>1892</td>\n",
       "      <td>\\N</td>\n",
       "      <td>12</td>\n",
       "      <td>Animation,Short</td>\n",
       "      <td>6.1</td>\n",
       "      <td>122.0</td>\n",
       "    </tr>\n",
       "    <tr>\n",
       "      <th>tt0000005</th>\n",
       "      <td>Blacksmith Scene</td>\n",
       "      <td>0</td>\n",
       "      <td>1893</td>\n",
       "      <td>\\N</td>\n",
       "      <td>1</td>\n",
       "      <td>Comedy,Short</td>\n",
       "      <td>6.1</td>\n",
       "      <td>2229.0</td>\n",
       "    </tr>\n",
       "  </tbody>\n",
       "</table>\n",
       "</div>"
      ],
      "text/plain": [
       "                    originalTitle isAdult startYear endYear runtimeMinutes  \\\n",
       "tconst                                                                       \n",
       "tt0000001              Carmencita       0      1894      \\N              1   \n",
       "tt0000002  Le clown et ses chiens       0      1892      \\N              5   \n",
       "tt0000003          Pauvre Pierrot       0      1892      \\N              4   \n",
       "tt0000004             Un bon bock       0      1892      \\N             12   \n",
       "tt0000005        Blacksmith Scene       0      1893      \\N              1   \n",
       "\n",
       "                             genres  averageRating  numVotes  \n",
       "tconst                                                        \n",
       "tt0000001         Documentary,Short            5.7    1688.0  \n",
       "tt0000002           Animation,Short            6.0     208.0  \n",
       "tt0000003  Animation,Comedy,Romance            6.5    1430.0  \n",
       "tt0000004           Animation,Short            6.1     122.0  \n",
       "tt0000005              Comedy,Short            6.1    2229.0  "
      ]
     },
     "execution_count": 25,
     "metadata": {},
     "output_type": "execute_result"
    }
   ],
   "source": [
    "# Combining the two datasets\n",
    "imdb_df = pd.concat([imdb_basic_df, imdb_rating_df], axis=1)\n",
    "\n",
    "# Dropping all the missing values\n",
    "imdb_df.dropna(inplace=True)\n",
    "\n",
    "imdb_df.head()"
   ]
  },
  {
   "cell_type": "code",
   "execution_count": 26,
   "metadata": {},
   "outputs": [],
   "source": [
    "# Reduce memory consumption\n",
    "imdb_basic_df = None"
   ]
  },
  {
   "cell_type": "code",
   "execution_count": 27,
   "metadata": {},
   "outputs": [
    {
     "name": "stdout",
     "output_type": "stream",
     "text": [
      "<class 'pandas.core.frame.DataFrame'>\n",
      "Index: 1129660 entries, tt0000001 to tt9916778\n",
      "Data columns (total 8 columns):\n",
      " #   Column          Non-Null Count    Dtype  \n",
      "---  ------          --------------    -----  \n",
      " 0   originalTitle   1129660 non-null  object \n",
      " 1   isAdult         1129660 non-null  object \n",
      " 2   startYear       1129660 non-null  object \n",
      " 3   endYear         1129660 non-null  object \n",
      " 4   runtimeMinutes  1129660 non-null  object \n",
      " 5   genres          1129660 non-null  object \n",
      " 6   averageRating   1129660 non-null  float64\n",
      " 7   numVotes        1129660 non-null  float64\n",
      "dtypes: float64(2), object(6)\n",
      "memory usage: 77.6+ MB\n"
     ]
    }
   ],
   "source": [
    "imdb_df.info()"
   ]
  },
  {
   "cell_type": "code",
   "execution_count": 28,
   "metadata": {},
   "outputs": [
    {
     "data": {
      "text/html": [
       "<div>\n",
       "<style scoped>\n",
       "    .dataframe tbody tr th:only-of-type {\n",
       "        vertical-align: middle;\n",
       "    }\n",
       "\n",
       "    .dataframe tbody tr th {\n",
       "        vertical-align: top;\n",
       "    }\n",
       "\n",
       "    .dataframe thead th {\n",
       "        text-align: right;\n",
       "    }\n",
       "</style>\n",
       "<table border=\"1\" class=\"dataframe\">\n",
       "  <thead>\n",
       "    <tr style=\"text-align: right;\">\n",
       "      <th></th>\n",
       "      <th>originalTitle</th>\n",
       "      <th>isAdult</th>\n",
       "      <th>startYear</th>\n",
       "      <th>endYear</th>\n",
       "      <th>runtimeMinutes</th>\n",
       "      <th>genres</th>\n",
       "      <th>averageRating</th>\n",
       "      <th>numVotes</th>\n",
       "    </tr>\n",
       "    <tr>\n",
       "      <th>tconst</th>\n",
       "      <th></th>\n",
       "      <th></th>\n",
       "      <th></th>\n",
       "      <th></th>\n",
       "      <th></th>\n",
       "      <th></th>\n",
       "      <th></th>\n",
       "      <th></th>\n",
       "    </tr>\n",
       "  </thead>\n",
       "  <tbody>\n",
       "    <tr>\n",
       "      <th>tt0000001</th>\n",
       "      <td>Carmencita</td>\n",
       "      <td>0</td>\n",
       "      <td>1894</td>\n",
       "      <td>\\N</td>\n",
       "      <td>1</td>\n",
       "      <td>Documentary,Short</td>\n",
       "      <td>5.7</td>\n",
       "      <td>1688.0</td>\n",
       "    </tr>\n",
       "    <tr>\n",
       "      <th>tt0000002</th>\n",
       "      <td>Le clown et ses chiens</td>\n",
       "      <td>0</td>\n",
       "      <td>1892</td>\n",
       "      <td>\\N</td>\n",
       "      <td>5</td>\n",
       "      <td>Animation,Short</td>\n",
       "      <td>6.0</td>\n",
       "      <td>208.0</td>\n",
       "    </tr>\n",
       "    <tr>\n",
       "      <th>tt0000003</th>\n",
       "      <td>Pauvre Pierrot</td>\n",
       "      <td>0</td>\n",
       "      <td>1892</td>\n",
       "      <td>\\N</td>\n",
       "      <td>4</td>\n",
       "      <td>Animation,Comedy,Romance</td>\n",
       "      <td>6.5</td>\n",
       "      <td>1430.0</td>\n",
       "    </tr>\n",
       "    <tr>\n",
       "      <th>tt0000004</th>\n",
       "      <td>Un bon bock</td>\n",
       "      <td>0</td>\n",
       "      <td>1892</td>\n",
       "      <td>\\N</td>\n",
       "      <td>12</td>\n",
       "      <td>Animation,Short</td>\n",
       "      <td>6.1</td>\n",
       "      <td>122.0</td>\n",
       "    </tr>\n",
       "    <tr>\n",
       "      <th>tt0000005</th>\n",
       "      <td>Blacksmith Scene</td>\n",
       "      <td>0</td>\n",
       "      <td>1893</td>\n",
       "      <td>\\N</td>\n",
       "      <td>1</td>\n",
       "      <td>Comedy,Short</td>\n",
       "      <td>6.1</td>\n",
       "      <td>2229.0</td>\n",
       "    </tr>\n",
       "  </tbody>\n",
       "</table>\n",
       "</div>"
      ],
      "text/plain": [
       "                    originalTitle isAdult startYear endYear runtimeMinutes  \\\n",
       "tconst                                                                       \n",
       "tt0000001              Carmencita       0      1894      \\N              1   \n",
       "tt0000002  Le clown et ses chiens       0      1892      \\N              5   \n",
       "tt0000003          Pauvre Pierrot       0      1892      \\N              4   \n",
       "tt0000004             Un bon bock       0      1892      \\N             12   \n",
       "tt0000005        Blacksmith Scene       0      1893      \\N              1   \n",
       "\n",
       "                             genres  averageRating  numVotes  \n",
       "tconst                                                        \n",
       "tt0000001         Documentary,Short            5.7    1688.0  \n",
       "tt0000002           Animation,Short            6.0     208.0  \n",
       "tt0000003  Animation,Comedy,Romance            6.5    1430.0  \n",
       "tt0000004           Animation,Short            6.1     122.0  \n",
       "tt0000005              Comedy,Short            6.1    2229.0  "
      ]
     },
     "execution_count": 28,
     "metadata": {},
     "output_type": "execute_result"
    }
   ],
   "source": [
    "# Filter data by year of release\n",
    "imdb_df2 = imdb_df[imdb_df[\"startYear\"] != \"\\\\N\"].dropna()\n",
    "imdb_df2.head()"
   ]
  },
  {
   "cell_type": "code",
   "execution_count": 29,
   "metadata": {},
   "outputs": [
    {
     "name": "stdout",
     "output_type": "stream",
     "text": [
      "<class 'pandas.core.frame.DataFrame'>\n",
      "Index: 1129496 entries, tt0000001 to tt9916778\n",
      "Data columns (total 8 columns):\n",
      " #   Column          Non-Null Count    Dtype  \n",
      "---  ------          --------------    -----  \n",
      " 0   originalTitle   1129496 non-null  object \n",
      " 1   isAdult         1129496 non-null  object \n",
      " 2   startYear       1129496 non-null  object \n",
      " 3   endYear         1129496 non-null  object \n",
      " 4   runtimeMinutes  1129496 non-null  object \n",
      " 5   genres          1129496 non-null  object \n",
      " 6   averageRating   1129496 non-null  float64\n",
      " 7   numVotes        1129496 non-null  float64\n",
      "dtypes: float64(2), object(6)\n",
      "memory usage: 77.6+ MB\n"
     ]
    }
   ],
   "source": [
    "imdb_df2.info()"
   ]
  },
  {
   "cell_type": "code",
   "execution_count": 30,
   "metadata": {},
   "outputs": [
    {
     "data": {
      "text/html": [
       "<div>\n",
       "<style scoped>\n",
       "    .dataframe tbody tr th:only-of-type {\n",
       "        vertical-align: middle;\n",
       "    }\n",
       "\n",
       "    .dataframe tbody tr th {\n",
       "        vertical-align: top;\n",
       "    }\n",
       "\n",
       "    .dataframe thead th {\n",
       "        text-align: right;\n",
       "    }\n",
       "</style>\n",
       "<table border=\"1\" class=\"dataframe\">\n",
       "  <thead>\n",
       "    <tr style=\"text-align: right;\">\n",
       "      <th></th>\n",
       "      <th>originalTitle</th>\n",
       "      <th>isAdult</th>\n",
       "      <th>startYear</th>\n",
       "      <th>endYear</th>\n",
       "      <th>runtimeMinutes</th>\n",
       "      <th>genres</th>\n",
       "      <th>averageRating</th>\n",
       "      <th>numVotes</th>\n",
       "    </tr>\n",
       "    <tr>\n",
       "      <th>tconst</th>\n",
       "      <th></th>\n",
       "      <th></th>\n",
       "      <th></th>\n",
       "      <th></th>\n",
       "      <th></th>\n",
       "      <th></th>\n",
       "      <th></th>\n",
       "      <th></th>\n",
       "    </tr>\n",
       "  </thead>\n",
       "  <tbody>\n",
       "    <tr>\n",
       "      <th>tt0000075</th>\n",
       "      <td>Escamotage d'une dame au théâtre Robert Houdin</td>\n",
       "      <td>0</td>\n",
       "      <td>1896</td>\n",
       "      <td>\\N</td>\n",
       "      <td>1</td>\n",
       "      <td>Horror,Short</td>\n",
       "      <td>6.3</td>\n",
       "      <td>1633.0</td>\n",
       "    </tr>\n",
       "    <tr>\n",
       "      <th>tt0000091</th>\n",
       "      <td>Le manoir du diable</td>\n",
       "      <td>0</td>\n",
       "      <td>1896</td>\n",
       "      <td>\\N</td>\n",
       "      <td>3</td>\n",
       "      <td>Horror,Short</td>\n",
       "      <td>6.7</td>\n",
       "      <td>2960.0</td>\n",
       "    </tr>\n",
       "    <tr>\n",
       "      <th>tt0000131</th>\n",
       "      <td>Une nuit terrible</td>\n",
       "      <td>0</td>\n",
       "      <td>1896</td>\n",
       "      <td>\\N</td>\n",
       "      <td>1</td>\n",
       "      <td>Comedy,Horror,Short</td>\n",
       "      <td>5.8</td>\n",
       "      <td>1143.0</td>\n",
       "    </tr>\n",
       "    <tr>\n",
       "      <th>tt0000138</th>\n",
       "      <td>L'auberge ensorcelée</td>\n",
       "      <td>0</td>\n",
       "      <td>1897</td>\n",
       "      <td>\\N</td>\n",
       "      <td>2</td>\n",
       "      <td>Comedy,Horror,Short</td>\n",
       "      <td>6.4</td>\n",
       "      <td>919.0</td>\n",
       "    </tr>\n",
       "    <tr>\n",
       "      <th>tt0000152</th>\n",
       "      <td>L'hallucination de l'alchimiste</td>\n",
       "      <td>0</td>\n",
       "      <td>1897</td>\n",
       "      <td>\\N</td>\n",
       "      <td>2</td>\n",
       "      <td>Fantasy,Horror,Short</td>\n",
       "      <td>6.1</td>\n",
       "      <td>188.0</td>\n",
       "    </tr>\n",
       "  </tbody>\n",
       "</table>\n",
       "</div>"
      ],
      "text/plain": [
       "                                            originalTitle isAdult startYear  \\\n",
       "tconst                                                                        \n",
       "tt0000075  Escamotage d'une dame au théâtre Robert Houdin       0      1896   \n",
       "tt0000091                             Le manoir du diable       0      1896   \n",
       "tt0000131                               Une nuit terrible       0      1896   \n",
       "tt0000138                            L'auberge ensorcelée       0      1897   \n",
       "tt0000152                 L'hallucination de l'alchimiste       0      1897   \n",
       "\n",
       "          endYear runtimeMinutes                genres  averageRating  \\\n",
       "tconst                                                                  \n",
       "tt0000075      \\N              1          Horror,Short            6.3   \n",
       "tt0000091      \\N              3          Horror,Short            6.7   \n",
       "tt0000131      \\N              1   Comedy,Horror,Short            5.8   \n",
       "tt0000138      \\N              2   Comedy,Horror,Short            6.4   \n",
       "tt0000152      \\N              2  Fantasy,Horror,Short            6.1   \n",
       "\n",
       "           numVotes  \n",
       "tconst               \n",
       "tt0000075    1633.0  \n",
       "tt0000091    2960.0  \n",
       "tt0000131    1143.0  \n",
       "tt0000138     919.0  \n",
       "tt0000152     188.0  "
      ]
     },
     "execution_count": 30,
     "metadata": {},
     "output_type": "execute_result"
    }
   ],
   "source": [
    "# Filtering out horror movies or series\n",
    "imdb_horror_df = imdb_df2[imdb_df2[\"genres\"].str.contains(\"Horror\")]\n",
    "imdb_horror_df.head()"
   ]
  },
  {
   "cell_type": "code",
   "execution_count": 31,
   "metadata": {},
   "outputs": [
    {
     "name": "stderr",
     "output_type": "stream",
     "text": [
      "<ipython-input-31-13af38701120>:2: SettingWithCopyWarning: \n",
      "A value is trying to be set on a copy of a slice from a DataFrame.\n",
      "Try using .loc[row_indexer,col_indexer] = value instead\n",
      "\n",
      "See the caveats in the documentation: https://pandas.pydata.org/pandas-docs/stable/user_guide/indexing.html#returning-a-view-versus-a-copy\n",
      "  imdb_horror_df[\"startYear\"] = imdb_horror_df[\"startYear\"].astype(int)\n"
     ]
    },
    {
     "data": {
      "text/html": [
       "<div>\n",
       "<style scoped>\n",
       "    .dataframe tbody tr th:only-of-type {\n",
       "        vertical-align: middle;\n",
       "    }\n",
       "\n",
       "    .dataframe tbody tr th {\n",
       "        vertical-align: top;\n",
       "    }\n",
       "\n",
       "    .dataframe thead th {\n",
       "        text-align: right;\n",
       "    }\n",
       "</style>\n",
       "<table border=\"1\" class=\"dataframe\">\n",
       "  <thead>\n",
       "    <tr style=\"text-align: right;\">\n",
       "      <th></th>\n",
       "      <th>originalTitle</th>\n",
       "      <th>isAdult</th>\n",
       "      <th>startYear</th>\n",
       "      <th>endYear</th>\n",
       "      <th>runtimeMinutes</th>\n",
       "      <th>genres</th>\n",
       "      <th>averageRating</th>\n",
       "      <th>numVotes</th>\n",
       "    </tr>\n",
       "    <tr>\n",
       "      <th>tconst</th>\n",
       "      <th></th>\n",
       "      <th></th>\n",
       "      <th></th>\n",
       "      <th></th>\n",
       "      <th></th>\n",
       "      <th></th>\n",
       "      <th></th>\n",
       "      <th></th>\n",
       "    </tr>\n",
       "  </thead>\n",
       "  <tbody>\n",
       "    <tr>\n",
       "      <th>tt0112502</th>\n",
       "      <td>Bigfoot</td>\n",
       "      <td>0</td>\n",
       "      <td>2017</td>\n",
       "      <td>\\N</td>\n",
       "      <td>\\N</td>\n",
       "      <td>Horror,Thriller</td>\n",
       "      <td>4.5</td>\n",
       "      <td>33.0</td>\n",
       "    </tr>\n",
       "    <tr>\n",
       "      <th>tt0164388</th>\n",
       "      <td>Shadow of a Candle</td>\n",
       "      <td>0</td>\n",
       "      <td>2008</td>\n",
       "      <td>\\N</td>\n",
       "      <td>\\N</td>\n",
       "      <td>Horror,Short,Thriller</td>\n",
       "      <td>6.9</td>\n",
       "      <td>10.0</td>\n",
       "    </tr>\n",
       "    <tr>\n",
       "      <th>tt0200641</th>\n",
       "      <td>Flexing with Monty</td>\n",
       "      <td>0</td>\n",
       "      <td>2010</td>\n",
       "      <td>\\N</td>\n",
       "      <td>90</td>\n",
       "      <td>Comedy,Drama,Horror</td>\n",
       "      <td>3.8</td>\n",
       "      <td>241.0</td>\n",
       "    </tr>\n",
       "    <tr>\n",
       "      <th>tt0289146</th>\n",
       "      <td>T.M.A.</td>\n",
       "      <td>0</td>\n",
       "      <td>2009</td>\n",
       "      <td>\\N</td>\n",
       "      <td>100</td>\n",
       "      <td>Horror,Mystery,Thriller</td>\n",
       "      <td>4.6</td>\n",
       "      <td>164.0</td>\n",
       "    </tr>\n",
       "    <tr>\n",
       "      <th>tt0319115</th>\n",
       "      <td>Brothel</td>\n",
       "      <td>0</td>\n",
       "      <td>2008</td>\n",
       "      <td>\\N</td>\n",
       "      <td>96</td>\n",
       "      <td>Drama,Horror</td>\n",
       "      <td>4.1</td>\n",
       "      <td>222.0</td>\n",
       "    </tr>\n",
       "  </tbody>\n",
       "</table>\n",
       "</div>"
      ],
      "text/plain": [
       "                originalTitle isAdult  startYear endYear runtimeMinutes  \\\n",
       "tconst                                                                    \n",
       "tt0112502             Bigfoot       0       2017      \\N             \\N   \n",
       "tt0164388  Shadow of a Candle       0       2008      \\N             \\N   \n",
       "tt0200641  Flexing with Monty       0       2010      \\N             90   \n",
       "tt0289146              T.M.A.       0       2009      \\N            100   \n",
       "tt0319115             Brothel       0       2008      \\N             96   \n",
       "\n",
       "                            genres  averageRating  numVotes  \n",
       "tconst                                                       \n",
       "tt0112502          Horror,Thriller            4.5      33.0  \n",
       "tt0164388    Horror,Short,Thriller            6.9      10.0  \n",
       "tt0200641      Comedy,Drama,Horror            3.8     241.0  \n",
       "tt0289146  Horror,Mystery,Thriller            4.6     164.0  \n",
       "tt0319115             Drama,Horror            4.1     222.0  "
      ]
     },
     "execution_count": 31,
     "metadata": {},
     "output_type": "execute_result"
    }
   ],
   "source": [
    "# Filtering the data by year\n",
    "imdb_horror_df[\"startYear\"] = imdb_horror_df[\"startYear\"].astype(int)\n",
    "\n",
    "start_year = 2008\n",
    "end_year = 2021     # not included\n",
    "imdb_horror_df2 = imdb_horror_df[(imdb_horror_df[\"startYear\"] >= start_year) & \n",
    "                                 (imdb_horror_df[\"startYear\"] < end_year)]\n",
    "\n",
    "\n",
    "imdb_horror_df2.head()"
   ]
  },
  {
   "cell_type": "code",
   "execution_count": 32,
   "metadata": {},
   "outputs": [
    {
     "data": {
      "text/plain": [
       "array([2017, 2008, 2010, 2009, 2011, 2012, 2014, 2013, 2016, 2019, 2018,\n",
       "       2020, 2015])"
      ]
     },
     "execution_count": 32,
     "metadata": {},
     "output_type": "execute_result"
    }
   ],
   "source": [
    "# Checking the unique year values\n",
    "imdb_horror_df2[\"startYear\"].unique()"
   ]
  },
  {
   "cell_type": "code",
   "execution_count": 33,
   "metadata": {},
   "outputs": [
    {
     "data": {
      "text/html": [
       "<div>\n",
       "<style scoped>\n",
       "    .dataframe tbody tr th:only-of-type {\n",
       "        vertical-align: middle;\n",
       "    }\n",
       "\n",
       "    .dataframe tbody tr th {\n",
       "        vertical-align: top;\n",
       "    }\n",
       "\n",
       "    .dataframe thead th {\n",
       "        text-align: right;\n",
       "    }\n",
       "</style>\n",
       "<table border=\"1\" class=\"dataframe\">\n",
       "  <thead>\n",
       "    <tr style=\"text-align: right;\">\n",
       "      <th></th>\n",
       "      <th>averageRating</th>\n",
       "      <th>numVotes</th>\n",
       "    </tr>\n",
       "    <tr>\n",
       "      <th>startYear</th>\n",
       "      <th></th>\n",
       "      <th></th>\n",
       "    </tr>\n",
       "  </thead>\n",
       "  <tbody>\n",
       "    <tr>\n",
       "      <th>2008</th>\n",
       "      <td>5.714165</td>\n",
       "      <td>1751.856043</td>\n",
       "    </tr>\n",
       "    <tr>\n",
       "      <th>2009</th>\n",
       "      <td>5.838451</td>\n",
       "      <td>2091.344488</td>\n",
       "    </tr>\n",
       "    <tr>\n",
       "      <th>2010</th>\n",
       "      <td>6.066163</td>\n",
       "      <td>2214.738953</td>\n",
       "    </tr>\n",
       "    <tr>\n",
       "      <th>2011</th>\n",
       "      <td>6.183568</td>\n",
       "      <td>1766.909233</td>\n",
       "    </tr>\n",
       "    <tr>\n",
       "      <th>2012</th>\n",
       "      <td>6.261889</td>\n",
       "      <td>1362.132258</td>\n",
       "    </tr>\n",
       "    <tr>\n",
       "      <th>2013</th>\n",
       "      <td>6.216606</td>\n",
       "      <td>2291.774931</td>\n",
       "    </tr>\n",
       "    <tr>\n",
       "      <th>2014</th>\n",
       "      <td>6.223389</td>\n",
       "      <td>1451.367051</td>\n",
       "    </tr>\n",
       "    <tr>\n",
       "      <th>2015</th>\n",
       "      <td>6.192445</td>\n",
       "      <td>1147.256064</td>\n",
       "    </tr>\n",
       "    <tr>\n",
       "      <th>2016</th>\n",
       "      <td>6.083412</td>\n",
       "      <td>1908.801746</td>\n",
       "    </tr>\n",
       "    <tr>\n",
       "      <th>2017</th>\n",
       "      <td>6.237314</td>\n",
       "      <td>1552.597094</td>\n",
       "    </tr>\n",
       "    <tr>\n",
       "      <th>2018</th>\n",
       "      <td>6.242880</td>\n",
       "      <td>1614.536498</td>\n",
       "    </tr>\n",
       "    <tr>\n",
       "      <th>2019</th>\n",
       "      <td>6.341599</td>\n",
       "      <td>1523.296900</td>\n",
       "    </tr>\n",
       "    <tr>\n",
       "      <th>2020</th>\n",
       "      <td>6.494138</td>\n",
       "      <td>980.773957</td>\n",
       "    </tr>\n",
       "  </tbody>\n",
       "</table>\n",
       "</div>"
      ],
      "text/plain": [
       "           averageRating     numVotes\n",
       "startYear                            \n",
       "2008            5.714165  1751.856043\n",
       "2009            5.838451  2091.344488\n",
       "2010            6.066163  2214.738953\n",
       "2011            6.183568  1766.909233\n",
       "2012            6.261889  1362.132258\n",
       "2013            6.216606  2291.774931\n",
       "2014            6.223389  1451.367051\n",
       "2015            6.192445  1147.256064\n",
       "2016            6.083412  1908.801746\n",
       "2017            6.237314  1552.597094\n",
       "2018            6.242880  1614.536498\n",
       "2019            6.341599  1523.296900\n",
       "2020            6.494138   980.773957"
      ]
     },
     "execution_count": 33,
     "metadata": {},
     "output_type": "execute_result"
    }
   ],
   "source": [
    "imdb_horror_df2.groupby(\"startYear\").mean()"
   ]
  },
  {
   "cell_type": "code",
   "execution_count": 34,
   "metadata": {},
   "outputs": [
    {
     "data": {
      "image/png": "[encoded data removed]",
      "text/plain": [
       "<Figure size 432x288 with 1 Axes>"
      ]
     },
     "metadata": {
      "needs_background": "light"
     },
     "output_type": "display_data"
    }
   ],
   "source": [
    "# plotting number of horror movies released over the years\n",
    "imdb_horror_df2.groupby(\"startYear\").count()[\"averageRating\"].plot();"
   ]
  },
  {
   "cell_type": "code",
   "execution_count": 35,
   "metadata": {},
   "outputs": [
    {
     "data": {
      "image/png": "[encoded data removed]",
      "text/plain": [
       "<Figure size 432x288 with 1 Axes>"
      ]
     },
     "metadata": {
      "needs_background": "light"
     },
     "output_type": "display_data"
    }
   ],
   "source": [
    "# Plotting average rating of horror movies over the years\n",
    "imdb_horror_df2.groupby(\"startYear\").mean()[\"averageRating\"].plot();"
   ]
  },
  {
   "cell_type": "code",
   "execution_count": 36,
   "metadata": {},
   "outputs": [
    {
     "name": "stdout",
     "output_type": "stream",
     "text": [
      "File IMDB Horror (Processed) Dataset.csv saved.\n"
     ]
    }
   ],
   "source": [
    "# Saving the horror movies dataset\n",
    "proc_dir = \"Data/Processed\"\n",
    "new_filename = \"IMDB Horror (Processed) Dataset.csv\"\n",
    "\n",
    "imdb_horror_df2.to_csv(os.path.join(proc_dir, new_filename))\n",
    "print(f\"File {new_filename} saved.\")"
   ]
  },
  {
   "cell_type": "markdown",
   "metadata": {},
   "source": [
    "# Viewing the Halloween Dataset"
   ]
  },
  {
   "cell_type": "code",
   "execution_count": 37,
   "metadata": {},
   "outputs": [
    {
     "data": {
      "text/html": [
       "<div>\n",
       "<style scoped>\n",
       "    .dataframe tbody tr th:only-of-type {\n",
       "        vertical-align: middle;\n",
       "    }\n",
       "\n",
       "    .dataframe tbody tr th {\n",
       "        vertical-align: top;\n",
       "    }\n",
       "\n",
       "    .dataframe thead th {\n",
       "        text-align: right;\n",
       "    }\n",
       "</style>\n",
       "<table border=\"1\" class=\"dataframe\">\n",
       "  <thead>\n",
       "    <tr style=\"text-align: right;\">\n",
       "      <th></th>\n",
       "      <th>Date</th>\n",
       "      <th>Date and Time</th>\n",
       "      <th>Count</th>\n",
       "      <th>Day of Week</th>\n",
       "      <th>Time</th>\n",
       "    </tr>\n",
       "  </thead>\n",
       "  <tbody>\n",
       "    <tr>\n",
       "      <th>0</th>\n",
       "      <td>2008-10-31</td>\n",
       "      <td>2008-10-31 18:00:00</td>\n",
       "      <td>0</td>\n",
       "      <td>Friday</td>\n",
       "      <td>6:00pm</td>\n",
       "    </tr>\n",
       "    <tr>\n",
       "      <th>1</th>\n",
       "      <td>2008-10-31</td>\n",
       "      <td>2008-10-31 18:30:00</td>\n",
       "      <td>75</td>\n",
       "      <td>Friday</td>\n",
       "      <td>6:30pm</td>\n",
       "    </tr>\n",
       "    <tr>\n",
       "      <th>2</th>\n",
       "      <td>2008-10-31</td>\n",
       "      <td>2008-10-31 19:00:00</td>\n",
       "      <td>117</td>\n",
       "      <td>Friday</td>\n",
       "      <td>7:00pm</td>\n",
       "    </tr>\n",
       "    <tr>\n",
       "      <th>3</th>\n",
       "      <td>2008-10-31</td>\n",
       "      <td>2008-10-31 19:30:00</td>\n",
       "      <td>147</td>\n",
       "      <td>Friday</td>\n",
       "      <td>7:30pm</td>\n",
       "    </tr>\n",
       "    <tr>\n",
       "      <th>4</th>\n",
       "      <td>2008-10-31</td>\n",
       "      <td>2008-10-31 20:00:00</td>\n",
       "      <td>144</td>\n",
       "      <td>Friday</td>\n",
       "      <td>8:00pm</td>\n",
       "    </tr>\n",
       "  </tbody>\n",
       "</table>\n",
       "</div>"
      ],
      "text/plain": [
       "        Date       Date and Time  Count Day of Week    Time\n",
       "0 2008-10-31 2008-10-31 18:00:00      0      Friday  6:00pm\n",
       "1 2008-10-31 2008-10-31 18:30:00     75      Friday  6:30pm\n",
       "2 2008-10-31 2008-10-31 19:00:00    117      Friday  7:00pm\n",
       "3 2008-10-31 2008-10-31 19:30:00    147      Friday  7:30pm\n",
       "4 2008-10-31 2008-10-31 20:00:00    144      Friday  8:00pm"
      ]
     },
     "execution_count": 37,
     "metadata": {},
     "output_type": "execute_result"
    }
   ],
   "source": [
    "# Loading dataset\n",
    "halloween_df = pd.read_excel(os.path.join(raw_dir, \"HalloweenTableau2020.xlsx\"), parse_dates=True)\n",
    "halloween_df.head()"
   ]
  },
  {
   "cell_type": "code",
   "execution_count": 38,
   "metadata": {},
   "outputs": [
    {
     "data": {
      "text/html": [
       "<div>\n",
       "<style scoped>\n",
       "    .dataframe tbody tr th:only-of-type {\n",
       "        vertical-align: middle;\n",
       "    }\n",
       "\n",
       "    .dataframe tbody tr th {\n",
       "        vertical-align: top;\n",
       "    }\n",
       "\n",
       "    .dataframe thead th {\n",
       "        text-align: right;\n",
       "    }\n",
       "</style>\n",
       "<table border=\"1\" class=\"dataframe\">\n",
       "  <thead>\n",
       "    <tr style=\"text-align: right;\">\n",
       "      <th></th>\n",
       "      <th>Date</th>\n",
       "      <th>Date and Time</th>\n",
       "      <th>Count</th>\n",
       "      <th>Day of Week</th>\n",
       "      <th>Time</th>\n",
       "      <th>Year</th>\n",
       "    </tr>\n",
       "  </thead>\n",
       "  <tbody>\n",
       "    <tr>\n",
       "      <th>0</th>\n",
       "      <td>2008-10-31</td>\n",
       "      <td>2008-10-31 18:00:00</td>\n",
       "      <td>0</td>\n",
       "      <td>Friday</td>\n",
       "      <td>6:00pm</td>\n",
       "      <td>2008</td>\n",
       "    </tr>\n",
       "    <tr>\n",
       "      <th>1</th>\n",
       "      <td>2008-10-31</td>\n",
       "      <td>2008-10-31 18:30:00</td>\n",
       "      <td>75</td>\n",
       "      <td>Friday</td>\n",
       "      <td>6:30pm</td>\n",
       "      <td>2008</td>\n",
       "    </tr>\n",
       "    <tr>\n",
       "      <th>2</th>\n",
       "      <td>2008-10-31</td>\n",
       "      <td>2008-10-31 19:00:00</td>\n",
       "      <td>117</td>\n",
       "      <td>Friday</td>\n",
       "      <td>7:00pm</td>\n",
       "      <td>2008</td>\n",
       "    </tr>\n",
       "    <tr>\n",
       "      <th>3</th>\n",
       "      <td>2008-10-31</td>\n",
       "      <td>2008-10-31 19:30:00</td>\n",
       "      <td>147</td>\n",
       "      <td>Friday</td>\n",
       "      <td>7:30pm</td>\n",
       "      <td>2008</td>\n",
       "    </tr>\n",
       "    <tr>\n",
       "      <th>4</th>\n",
       "      <td>2008-10-31</td>\n",
       "      <td>2008-10-31 20:00:00</td>\n",
       "      <td>144</td>\n",
       "      <td>Friday</td>\n",
       "      <td>8:00pm</td>\n",
       "      <td>2008</td>\n",
       "    </tr>\n",
       "  </tbody>\n",
       "</table>\n",
       "</div>"
      ],
      "text/plain": [
       "        Date       Date and Time  Count Day of Week    Time  Year\n",
       "0 2008-10-31 2008-10-31 18:00:00      0      Friday  6:00pm  2008\n",
       "1 2008-10-31 2008-10-31 18:30:00     75      Friday  6:30pm  2008\n",
       "2 2008-10-31 2008-10-31 19:00:00    117      Friday  7:00pm  2008\n",
       "3 2008-10-31 2008-10-31 19:30:00    147      Friday  7:30pm  2008\n",
       "4 2008-10-31 2008-10-31 20:00:00    144      Friday  8:00pm  2008"
      ]
     },
     "execution_count": 38,
     "metadata": {},
     "output_type": "execute_result"
    }
   ],
   "source": [
    "# Creating the `Year` variable\n",
    "halloween_df[\"Year\"] = halloween_df[\"Date and Time\"].dt.year\n",
    "halloween_df.head()"
   ]
  },
  {
   "cell_type": "code",
   "execution_count": 39,
   "metadata": {},
   "outputs": [
    {
     "data": {
      "text/html": [
       "<div>\n",
       "<style scoped>\n",
       "    .dataframe tbody tr th:only-of-type {\n",
       "        vertical-align: middle;\n",
       "    }\n",
       "\n",
       "    .dataframe tbody tr th {\n",
       "        vertical-align: top;\n",
       "    }\n",
       "\n",
       "    .dataframe thead th {\n",
       "        text-align: right;\n",
       "    }\n",
       "</style>\n",
       "<table border=\"1\" class=\"dataframe\">\n",
       "  <thead>\n",
       "    <tr style=\"text-align: right;\">\n",
       "      <th></th>\n",
       "      <th></th>\n",
       "      <th>Date</th>\n",
       "      <th>Date and Time</th>\n",
       "      <th>Count</th>\n",
       "      <th>Day of Week</th>\n",
       "    </tr>\n",
       "    <tr>\n",
       "      <th>Year</th>\n",
       "      <th>Time</th>\n",
       "      <th></th>\n",
       "      <th></th>\n",
       "      <th></th>\n",
       "      <th></th>\n",
       "    </tr>\n",
       "  </thead>\n",
       "  <tbody>\n",
       "    <tr>\n",
       "      <th rowspan=\"5\" valign=\"top\">2008</th>\n",
       "      <th>6:00pm</th>\n",
       "      <td>2008-10-31</td>\n",
       "      <td>2008-10-31 18:00:00</td>\n",
       "      <td>0</td>\n",
       "      <td>Friday</td>\n",
       "    </tr>\n",
       "    <tr>\n",
       "      <th>6:30pm</th>\n",
       "      <td>2008-10-31</td>\n",
       "      <td>2008-10-31 18:30:00</td>\n",
       "      <td>75</td>\n",
       "      <td>Friday</td>\n",
       "    </tr>\n",
       "    <tr>\n",
       "      <th>7:00pm</th>\n",
       "      <td>2008-10-31</td>\n",
       "      <td>2008-10-31 19:00:00</td>\n",
       "      <td>117</td>\n",
       "      <td>Friday</td>\n",
       "    </tr>\n",
       "    <tr>\n",
       "      <th>7:30pm</th>\n",
       "      <td>2008-10-31</td>\n",
       "      <td>2008-10-31 19:30:00</td>\n",
       "      <td>147</td>\n",
       "      <td>Friday</td>\n",
       "    </tr>\n",
       "    <tr>\n",
       "      <th>8:00pm</th>\n",
       "      <td>2008-10-31</td>\n",
       "      <td>2008-10-31 20:00:00</td>\n",
       "      <td>144</td>\n",
       "      <td>Friday</td>\n",
       "    </tr>\n",
       "  </tbody>\n",
       "</table>\n",
       "</div>"
      ],
      "text/plain": [
       "                  Date       Date and Time  Count Day of Week\n",
       "Year Time                                                    \n",
       "2008 6:00pm 2008-10-31 2008-10-31 18:00:00      0      Friday\n",
       "     6:30pm 2008-10-31 2008-10-31 18:30:00     75      Friday\n",
       "     7:00pm 2008-10-31 2008-10-31 19:00:00    117      Friday\n",
       "     7:30pm 2008-10-31 2008-10-31 19:30:00    147      Friday\n",
       "     8:00pm 2008-10-31 2008-10-31 20:00:00    144      Friday"
      ]
     },
     "execution_count": 39,
     "metadata": {},
     "output_type": "execute_result"
    }
   ],
   "source": [
    "# Updating the index to view data in a comprehensive manner.\n",
    "halloween_df.set_index([\"Year\", \"Time\"], inplace=True)\n",
    "halloween_df.head()"
   ]
  },
  {
   "cell_type": "code",
   "execution_count": 40,
   "metadata": {},
   "outputs": [
    {
     "data": {
      "image/png": "[encoded data removed]",
      "text/plain": [
       "<Figure size 432x288 with 1 Axes>"
      ]
     },
     "metadata": {
      "needs_background": "light"
     },
     "output_type": "display_data"
    }
   ],
   "source": [
    "# Plotting number of candies treated by year\n",
    "halloween_df.groupby(\"Year\").sum().plot();"
   ]
  },
  {
   "cell_type": "code",
   "execution_count": 41,
   "metadata": {},
   "outputs": [
    {
     "data": {
      "text/html": [
       "<div>\n",
       "<style scoped>\n",
       "    .dataframe tbody tr th:only-of-type {\n",
       "        vertical-align: middle;\n",
       "    }\n",
       "\n",
       "    .dataframe tbody tr th {\n",
       "        vertical-align: top;\n",
       "    }\n",
       "\n",
       "    .dataframe thead th {\n",
       "        text-align: right;\n",
       "    }\n",
       "</style>\n",
       "<table border=\"1\" class=\"dataframe\">\n",
       "  <thead>\n",
       "    <tr style=\"text-align: right;\">\n",
       "      <th></th>\n",
       "      <th>Count</th>\n",
       "      <th>averageRating</th>\n",
       "      <th>numVotes</th>\n",
       "    </tr>\n",
       "  </thead>\n",
       "  <tbody>\n",
       "    <tr>\n",
       "      <th>2008</th>\n",
       "      <td>492</td>\n",
       "      <td>5.71</td>\n",
       "      <td>1751.86</td>\n",
       "    </tr>\n",
       "    <tr>\n",
       "      <th>2009</th>\n",
       "      <td>542</td>\n",
       "      <td>5.84</td>\n",
       "      <td>2091.34</td>\n",
       "    </tr>\n",
       "    <tr>\n",
       "      <th>2010</th>\n",
       "      <td>726</td>\n",
       "      <td>6.07</td>\n",
       "      <td>2214.74</td>\n",
       "    </tr>\n",
       "    <tr>\n",
       "      <th>2011</th>\n",
       "      <td>869</td>\n",
       "      <td>6.18</td>\n",
       "      <td>1766.91</td>\n",
       "    </tr>\n",
       "    <tr>\n",
       "      <th>2012</th>\n",
       "      <td>673</td>\n",
       "      <td>6.26</td>\n",
       "      <td>1362.13</td>\n",
       "    </tr>\n",
       "  </tbody>\n",
       "</table>\n",
       "</div>"
      ],
      "text/plain": [
       "      Count  averageRating  numVotes\n",
       "2008    492           5.71   1751.86\n",
       "2009    542           5.84   2091.34\n",
       "2010    726           6.07   2214.74\n",
       "2011    869           6.18   1766.91\n",
       "2012    673           6.26   1362.13"
      ]
     },
     "execution_count": 41,
     "metadata": {},
     "output_type": "execute_result"
    }
   ],
   "source": [
    "combined_df = pd.concat([halloween_df.groupby(\"Year\").sum(),\n",
    "                         imdb_horror_df2.groupby(\"startYear\").mean().round(2)], axis=1)\n",
    "combined_df.head()"
   ]
  },
  {
   "cell_type": "code",
   "execution_count": 42,
   "metadata": {},
   "outputs": [
    {
     "data": {
      "text/html": [
       "<div>\n",
       "<style scoped>\n",
       "    .dataframe tbody tr th:only-of-type {\n",
       "        vertical-align: middle;\n",
       "    }\n",
       "\n",
       "    .dataframe tbody tr th {\n",
       "        vertical-align: top;\n",
       "    }\n",
       "\n",
       "    .dataframe thead th {\n",
       "        text-align: right;\n",
       "    }\n",
       "</style>\n",
       "<table border=\"1\" class=\"dataframe\">\n",
       "  <thead>\n",
       "    <tr style=\"text-align: right;\">\n",
       "      <th></th>\n",
       "      <th>averageRating</th>\n",
       "      <th>numVotes</th>\n",
       "      <th>numberOfCandies</th>\n",
       "    </tr>\n",
       "  </thead>\n",
       "  <tbody>\n",
       "    <tr>\n",
       "      <th>2008</th>\n",
       "      <td>5.71</td>\n",
       "      <td>1751.86</td>\n",
       "      <td>492</td>\n",
       "    </tr>\n",
       "    <tr>\n",
       "      <th>2009</th>\n",
       "      <td>5.84</td>\n",
       "      <td>2091.34</td>\n",
       "      <td>542</td>\n",
       "    </tr>\n",
       "    <tr>\n",
       "      <th>2010</th>\n",
       "      <td>6.07</td>\n",
       "      <td>2214.74</td>\n",
       "      <td>726</td>\n",
       "    </tr>\n",
       "    <tr>\n",
       "      <th>2011</th>\n",
       "      <td>6.18</td>\n",
       "      <td>1766.91</td>\n",
       "      <td>869</td>\n",
       "    </tr>\n",
       "    <tr>\n",
       "      <th>2012</th>\n",
       "      <td>6.26</td>\n",
       "      <td>1362.13</td>\n",
       "      <td>673</td>\n",
       "    </tr>\n",
       "  </tbody>\n",
       "</table>\n",
       "</div>"
      ],
      "text/plain": [
       "      averageRating  numVotes  numberOfCandies\n",
       "2008           5.71   1751.86              492\n",
       "2009           5.84   2091.34              542\n",
       "2010           6.07   2214.74              726\n",
       "2011           6.18   1766.91              869\n",
       "2012           6.26   1362.13              673"
      ]
     },
     "execution_count": 42,
     "metadata": {},
     "output_type": "execute_result"
    }
   ],
   "source": [
    "combined_df[\"numberOfCandies\"] = combined_df[\"Count\"]\n",
    "combined_df.drop(\"Count\", axis=1, inplace=True)\n",
    "combined_df.head()"
   ]
  },
  {
   "cell_type": "code",
   "execution_count": 43,
   "metadata": {},
   "outputs": [
    {
     "data": {
      "text/html": [
       "<div>\n",
       "<style scoped>\n",
       "    .dataframe tbody tr th:only-of-type {\n",
       "        vertical-align: middle;\n",
       "    }\n",
       "\n",
       "    .dataframe tbody tr th {\n",
       "        vertical-align: top;\n",
       "    }\n",
       "\n",
       "    .dataframe thead th {\n",
       "        text-align: right;\n",
       "    }\n",
       "</style>\n",
       "<table border=\"1\" class=\"dataframe\">\n",
       "  <thead>\n",
       "    <tr style=\"text-align: right;\">\n",
       "      <th></th>\n",
       "      <th>averageRating</th>\n",
       "      <th>numVotes</th>\n",
       "      <th>numberOfCandies</th>\n",
       "      <th>numberOfHorrorMovies</th>\n",
       "    </tr>\n",
       "  </thead>\n",
       "  <tbody>\n",
       "    <tr>\n",
       "      <th>2008</th>\n",
       "      <td>5.71</td>\n",
       "      <td>1751.86</td>\n",
       "      <td>492</td>\n",
       "      <td>1299</td>\n",
       "    </tr>\n",
       "    <tr>\n",
       "      <th>2009</th>\n",
       "      <td>5.84</td>\n",
       "      <td>2091.34</td>\n",
       "      <td>542</td>\n",
       "      <td>1524</td>\n",
       "    </tr>\n",
       "    <tr>\n",
       "      <th>2010</th>\n",
       "      <td>6.07</td>\n",
       "      <td>2214.74</td>\n",
       "      <td>726</td>\n",
       "      <td>1720</td>\n",
       "    </tr>\n",
       "    <tr>\n",
       "      <th>2011</th>\n",
       "      <td>6.18</td>\n",
       "      <td>1766.91</td>\n",
       "      <td>869</td>\n",
       "      <td>1917</td>\n",
       "    </tr>\n",
       "    <tr>\n",
       "      <th>2012</th>\n",
       "      <td>6.26</td>\n",
       "      <td>1362.13</td>\n",
       "      <td>673</td>\n",
       "      <td>2170</td>\n",
       "    </tr>\n",
       "    <tr>\n",
       "      <th>2013</th>\n",
       "      <td>6.22</td>\n",
       "      <td>2291.77</td>\n",
       "      <td>391</td>\n",
       "      <td>2186</td>\n",
       "    </tr>\n",
       "    <tr>\n",
       "      <th>2014</th>\n",
       "      <td>6.22</td>\n",
       "      <td>1451.37</td>\n",
       "      <td>454</td>\n",
       "      <td>2343</td>\n",
       "    </tr>\n",
       "    <tr>\n",
       "      <th>2015</th>\n",
       "      <td>6.19</td>\n",
       "      <td>1147.26</td>\n",
       "      <td>747</td>\n",
       "      <td>2515</td>\n",
       "    </tr>\n",
       "    <tr>\n",
       "      <th>2016</th>\n",
       "      <td>6.08</td>\n",
       "      <td>1908.80</td>\n",
       "      <td>822</td>\n",
       "      <td>2749</td>\n",
       "    </tr>\n",
       "    <tr>\n",
       "      <th>2017</th>\n",
       "      <td>6.24</td>\n",
       "      <td>1552.60</td>\n",
       "      <td>776</td>\n",
       "      <td>2822</td>\n",
       "    </tr>\n",
       "    <tr>\n",
       "      <th>2018</th>\n",
       "      <td>6.24</td>\n",
       "      <td>1614.54</td>\n",
       "      <td>600</td>\n",
       "      <td>2507</td>\n",
       "    </tr>\n",
       "    <tr>\n",
       "      <th>2019</th>\n",
       "      <td>6.34</td>\n",
       "      <td>1523.30</td>\n",
       "      <td>523</td>\n",
       "      <td>2452</td>\n",
       "    </tr>\n",
       "    <tr>\n",
       "      <th>2020</th>\n",
       "      <td>6.49</td>\n",
       "      <td>980.77</td>\n",
       "      <td>219</td>\n",
       "      <td>1774</td>\n",
       "    </tr>\n",
       "  </tbody>\n",
       "</table>\n",
       "</div>"
      ],
      "text/plain": [
       "      averageRating  numVotes  numberOfCandies  numberOfHorrorMovies\n",
       "2008           5.71   1751.86              492                  1299\n",
       "2009           5.84   2091.34              542                  1524\n",
       "2010           6.07   2214.74              726                  1720\n",
       "2011           6.18   1766.91              869                  1917\n",
       "2012           6.26   1362.13              673                  2170\n",
       "2013           6.22   2291.77              391                  2186\n",
       "2014           6.22   1451.37              454                  2343\n",
       "2015           6.19   1147.26              747                  2515\n",
       "2016           6.08   1908.80              822                  2749\n",
       "2017           6.24   1552.60              776                  2822\n",
       "2018           6.24   1614.54              600                  2507\n",
       "2019           6.34   1523.30              523                  2452\n",
       "2020           6.49    980.77              219                  1774"
      ]
     },
     "execution_count": 43,
     "metadata": {},
     "output_type": "execute_result"
    }
   ],
   "source": [
    "combined_df[\"numberOfHorrorMovies\"] = imdb_horror_df2.groupby(\"startYear\").count()[\"averageRating\"]\n",
    "combined_df"
   ]
  },
  {
   "cell_type": "code",
   "execution_count": 44,
   "metadata": {},
   "outputs": [
    {
     "data": {
      "image/png": "[encoded data removed]",
      "text/plain": [
       "<Figure size 432x288 with 2 Axes>"
      ]
     },
     "metadata": {
      "needs_background": "light"
     },
     "output_type": "display_data"
    }
   ],
   "source": [
    "sns.heatmap(combined_df.corr(), annot=True, cmap=\"viridis\");"
   ]
  },
  {
   "cell_type": "markdown",
   "metadata": {},
   "source": [
    "# Cleaning up\n",
    "In this section, I will delete all the files that are not needed for the creation of the visualization"
   ]
  },
  {
   "cell_type": "code",
   "execution_count": 45,
   "metadata": {},
   "outputs": [
    {
     "data": {
      "text/plain": [
       "['IMDB_ratings.tsv', 'IMDB_basic_info.tsv']"
      ]
     },
     "execution_count": 45,
     "metadata": {},
     "output_type": "execute_result"
    }
   ],
   "source": [
    "# File names to be deleted.\n",
    "filenames.remove(\"IMDB Horror movies.csv\")\n",
    "filenames"
   ]
  },
  {
   "cell_type": "code",
   "execution_count": 46,
   "metadata": {},
   "outputs": [
    {
     "name": "stdout",
     "output_type": "stream",
     "text": [
      "IMDB_ratings.tsv deleted.\n",
      "IMDB_basic_info.tsv deleted.\n"
     ]
    }
   ],
   "source": [
    "for filename in filenames:\n",
    "    path = pathlib.Path(raw_dir) / filename\n",
    "    if path.exists():\n",
    "        path.unlink()\n",
    "        print(f\"{filename} deleted.\")\n",
    "    else:\n",
    "        print(f\"{filename} already deleted.\")\n",
    "        "
   ]
  },
  {
   "cell_type": "code",
   "execution_count": null,
   "metadata": {},
   "outputs": [],
   "source": []
  }
 ],
 "metadata": {
  "colab": {
   "name": "trick-or-treat-eda.ipynb",
   "provenance": [],
   "toc_visible": true
  },
  "kernelspec": {
   "display_name": "Python 3",
   "language": "python",
   "name": "python3"
  },
  "language_info": {
   "codemirror_mode": {
    "name": "ipython",
    "version": 3
   },
   "file_extension": ".py",
   "mimetype": "text/x-python",
   "name": "python",
   "nbconvert_exporter": "python",
   "pygments_lexer": "ipython3",
   "version": "3.8.8"
  }
 },
 "nbformat": 4,
 "nbformat_minor": 1
}
