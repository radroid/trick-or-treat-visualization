{
 "cells": [
  {
   "cell_type": "markdown",
   "id": "earlier-notification",
   "metadata": {},
   "source": [
    "# Halloween Viz Visualization\n",
    "\n",
    "# Creating a Story\n",
    "Jeffrey A. Shaffer has been counting the number of candies he gives out on a halloween evening since 2012. Each year he collects the data on the number of candies given every half an hour between `1800` and `2030`. Jeffrey would now like to get some insights from the data he has collected.\n",
    "\n",
    "## Storyboarding\n",
    "In this section, we will put down thoughts around the story in points/post-its.\n",
    "\n",
    "1. `Issue`: Jeffrey A. Shaffer wants to better understand the data he is collecting.\n",
    "2. `Why?`: He expects to better understand the number of ghosts coming for halloween to his place for trick-or-treat. Jeff does whatever he can to reduce his carbon footprint, which will help prevent climate change. If he is able to get approximately the right number of candies for halloween, he will be able to save those resources, rather, use it efficiently.\n",
    "3. `Expectations`: Jeff expects to use a Dashboard to understand relationships between variables in the dataset.\n",
    "4. `Additional`: Adding external features like weather and the number of horror movies released can better help understand the data.\n",
    "\n",
    "## Who is the Audience?\n",
    "Jeffrey A. Shaffer and anyone else, who is interested in optimising the number of candies, is the audience.\n",
    "\n",
    "## What do we want to convey to our Audience?\n",
    "We want the audience to better estimate the number of candies that will be required for trick-or-treating in a particular year. Hence, create a dashboard to help visualize the key insights that can be gathered from the data.\n",
    "\n",
    "## Additional Feature\n",
    "Jeff thinks that the number of horror movies released a particular year plays a big role in determining how many candies will be given away on that Halloween night. Also,this dataset is simple and can be combined with other external datasets to provide better insight into the trick-or-treat figures.\n",
    "\n",
    "We will be considering [Kaggle's IMDB horror movies dataset](https://www.kaggle.com/PromptCloudHQ/imdb-horror-movie-dataset) and [IMDB's Dataset](https://www.imdb.com/interfaces/) to build on the halloween dataset. The number of movies/TV series released in a year and their average IMDB ratings will be considered.\n",
    "> **The relationship between the number of _good_ horror movies/TV series released and number of candies distributed in a particular can be explored.**\n",
    "\n",
    "Later, a simple regression model can be used to make predicitons on what the demand for candies will be like in 2021.\n",
    "\n",
    "_Note: As 2020 had been the year of the pandemic, there should be a sharp rise in the number of trick-or-treaters in 2021._\n",
    "\n",
    "\n",
    "# Halloween Viz EDA\n",
    "In this notebook, I am going to explore two datasets.\n",
    "\n",
    "First being the [Halloween Viz dataset](https://www.dataplusscience.com/HalloweenData.html) created by [Jeffrey A. Shaffer](https://twitter.com/HighVizAbility), a resident of Cincinnati on the number of candies given out on Halloween each year. The dataset is further broken down into number of candies given out each half an hour between the trick-or-treat timings (6 to 8 p.m.). Jeffrey is an _\"Author, Data Viz Professor, Tableau Zen Master, Data Mining Geek, Recovering Musician\"_ (Source: Twitter). \n",
    "\n",
    "Second being the [Kaggle's IMDB Movies Dataset](https://www.kaggle.com/stefanoleone992/imdb-extensive-dataset).\n",
    "\n",
    "# Load Libraries"
   ]
  },
  {
   "cell_type": "code",
   "execution_count": 1,
   "id": "mobile-judge",
   "metadata": {},
   "outputs": [
    {
     "name": "stdout",
     "output_type": "stream",
     "text": [
      "Enabling notebook extension jupyter-js-widgets/extension...\r\n",
      "      - Validating: \u001b[32mOK\u001b[0m\r\n"
     ]
    }
   ],
   "source": [
    "import pandas as pd\n",
    "from pandas_profiling import ProfileReport\n",
    "from tqdm import tqdm\n",
    "import pathlib\n",
    "import os\n",
    "import datetime\n",
    "import matplotlib.pyplot as plt\n",
    "import seaborn as sns\n",
    "\n",
    "!jupyter nbextension enable --py widgetsnbextension"
   ]
  },
  {
   "cell_type": "markdown",
   "id": "plastic-perth",
   "metadata": {},
   "source": [
    "# Load Data"
   ]
  },
  {
   "cell_type": "code",
   "execution_count": 5,
   "id": "corporate-dragon",
   "metadata": {},
   "outputs": [
    {
     "name": "stdout",
     "output_type": "stream",
     "text": [
      "File HalloweenTableau2020.xlsx exists.\n",
      "File IMDb movies.csv exists.\n",
      "File IMDb ratings.csv exists.\n"
     ]
    }
   ],
   "source": [
    "raw_data_dir = pathlib.Path(\"Data/Raw\")\n",
    "kaggle_dir = raw_data_dir / \"IMDB_Kaggle\"\n",
    "\n",
    "data_dict = {\n",
    "    \"halloween\": {\n",
    "        \"path\": raw_data_dir / \"HalloweenTableau2020.xlsx\",\n",
    "    },\n",
    "    \"kaggle_movies\": {\n",
    "        \"path\": kaggle_dir / \"IMDb movies.csv\"\n",
    "    },\n",
    "    \"kaggle_ratings\": {\n",
    "        \"path\": kaggle_dir / \"IMDb ratings.csv\"\n",
    "    }\n",
    "}\n",
    "\n",
    "\n",
    "for source_name, data_source in data_dict.items():\n",
    "    if not data_source[\"path\"].exists():\n",
    "        raise FileNotFoundError(f\"No file named {source_name} is present at the location provided. Path: {data_source['path']}\")\n",
    "    else:\n",
    "        print(f\"File {data_source['path'].name} exists.\")"
   ]
  },
  {
   "cell_type": "code",
   "execution_count": null,
   "id": "ranking-maple",
   "metadata": {},
   "outputs": [],
   "source": []
  }
 ],
 "metadata": {
  "kernelspec": {
   "display_name": "Python 3",
   "language": "python",
   "name": "python3"
  },
  "language_info": {
   "codemirror_mode": {
    "name": "ipython",
    "version": 3
   },
   "file_extension": ".py",
   "mimetype": "text/x-python",
   "name": "python",
   "nbconvert_exporter": "python",
   "pygments_lexer": "ipython3",
   "version": "3.8.8"
  }
 },
 "nbformat": 4,
 "nbformat_minor": 5
}
